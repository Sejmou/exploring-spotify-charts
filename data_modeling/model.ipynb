{
 "cells": [
  {
   "cell_type": "code",
   "execution_count": 109,
   "metadata": {},
   "outputs": [],
   "source": [
    "import pandas as pd\n",
    "from matplotlib import pyplot as plt\n",
    "import seaborn as sns\n",
    "from helpers import get_countries_charts, get_global_charts, get_track_data, get_data_path"
   ]
  },
  {
   "cell_type": "code",
   "execution_count": 2,
   "metadata": {},
   "outputs": [
    {
     "data": {
      "text/html": [
       "<div>\n",
       "<style scoped>\n",
       "    .dataframe tbody tr th:only-of-type {\n",
       "        vertical-align: middle;\n",
       "    }\n",
       "\n",
       "    .dataframe tbody tr th {\n",
       "        vertical-align: top;\n",
       "    }\n",
       "\n",
       "    .dataframe thead th {\n",
       "        text-align: right;\n",
       "    }\n",
       "</style>\n",
       "<table border=\"1\" class=\"dataframe\">\n",
       "  <thead>\n",
       "    <tr style=\"text-align: right;\">\n",
       "      <th></th>\n",
       "      <th>date</th>\n",
       "      <th>rank</th>\n",
       "      <th>streams</th>\n",
       "      <th>id</th>\n",
       "    </tr>\n",
       "  </thead>\n",
       "  <tbody>\n",
       "    <tr>\n",
       "      <th>0</th>\n",
       "      <td>2017-01-01</td>\n",
       "      <td>1</td>\n",
       "      <td>3135625.0</td>\n",
       "      <td>5aAx2yezTd8zXrkmtKl66Z</td>\n",
       "    </tr>\n",
       "    <tr>\n",
       "      <th>1</th>\n",
       "      <td>2017-01-01</td>\n",
       "      <td>2</td>\n",
       "      <td>3015525.0</td>\n",
       "      <td>7BKLCZ1jbUBVqRi2FVlTVw</td>\n",
       "    </tr>\n",
       "    <tr>\n",
       "      <th>2</th>\n",
       "      <td>2017-01-01</td>\n",
       "      <td>3</td>\n",
       "      <td>2545384.0</td>\n",
       "      <td>4pdPtRcBmOSQDlJ3Fk945m</td>\n",
       "    </tr>\n",
       "    <tr>\n",
       "      <th>3</th>\n",
       "      <td>2017-01-01</td>\n",
       "      <td>4</td>\n",
       "      <td>2356604.0</td>\n",
       "      <td>5knuzwU65gJK7IF5yJsuaW</td>\n",
       "    </tr>\n",
       "    <tr>\n",
       "      <th>4</th>\n",
       "      <td>2017-01-01</td>\n",
       "      <td>5</td>\n",
       "      <td>2259887.0</td>\n",
       "      <td>1xznGGDReH1oQq0xzbwXa3</td>\n",
       "    </tr>\n",
       "    <tr>\n",
       "      <th>...</th>\n",
       "      <td>...</td>\n",
       "      <td>...</td>\n",
       "      <td>...</td>\n",
       "      <td>...</td>\n",
       "    </tr>\n",
       "    <tr>\n",
       "      <th>91281</th>\n",
       "      <td>2017-11-14</td>\n",
       "      <td>32</td>\n",
       "      <td>1514407.0</td>\n",
       "      <td>7fwXWKdDNI5IutOMc5OKYw</td>\n",
       "    </tr>\n",
       "    <tr>\n",
       "      <th>91282</th>\n",
       "      <td>2017-11-14</td>\n",
       "      <td>43</td>\n",
       "      <td>1319431.0</td>\n",
       "      <td>7sO5G9EABYOXQKNPNiE9NR</td>\n",
       "    </tr>\n",
       "    <tr>\n",
       "      <th>91283</th>\n",
       "      <td>2017-11-14</td>\n",
       "      <td>44</td>\n",
       "      <td>1313844.0</td>\n",
       "      <td>70lnL3QaSOIIyMa2X9aVRL</td>\n",
       "    </tr>\n",
       "    <tr>\n",
       "      <th>91284</th>\n",
       "      <td>2017-11-14</td>\n",
       "      <td>47</td>\n",
       "      <td>1311951.0</td>\n",
       "      <td>7nZmah2llfvLDiUjm0kiyz</td>\n",
       "    </tr>\n",
       "    <tr>\n",
       "      <th>91285</th>\n",
       "      <td>2017-11-14</td>\n",
       "      <td>48</td>\n",
       "      <td>1286028.0</td>\n",
       "      <td>7iDa6hUg2VgEL1o1HjmfBn</td>\n",
       "    </tr>\n",
       "  </tbody>\n",
       "</table>\n",
       "<p>91286 rows × 4 columns</p>\n",
       "</div>"
      ],
      "text/plain": [
       "            date  rank    streams                      id\n",
       "0     2017-01-01     1  3135625.0  5aAx2yezTd8zXrkmtKl66Z\n",
       "1     2017-01-01     2  3015525.0  7BKLCZ1jbUBVqRi2FVlTVw\n",
       "2     2017-01-01     3  2545384.0  4pdPtRcBmOSQDlJ3Fk945m\n",
       "3     2017-01-01     4  2356604.0  5knuzwU65gJK7IF5yJsuaW\n",
       "4     2017-01-01     5  2259887.0  1xznGGDReH1oQq0xzbwXa3\n",
       "...          ...   ...        ...                     ...\n",
       "91281 2017-11-14    32  1514407.0  7fwXWKdDNI5IutOMc5OKYw\n",
       "91282 2017-11-14    43  1319431.0  7sO5G9EABYOXQKNPNiE9NR\n",
       "91283 2017-11-14    44  1313844.0  70lnL3QaSOIIyMa2X9aVRL\n",
       "91284 2017-11-14    47  1311951.0  7nZmah2llfvLDiUjm0kiyz\n",
       "91285 2017-11-14    48  1286028.0  7iDa6hUg2VgEL1o1HjmfBn\n",
       "\n",
       "[91286 rows x 4 columns]"
      ]
     },
     "execution_count": 2,
     "metadata": {},
     "output_type": "execute_result"
    }
   ],
   "source": [
    "global_charts = get_global_charts()\n",
    "global_charts"
   ]
  },
  {
   "cell_type": "code",
   "execution_count": 3,
   "metadata": {},
   "outputs": [
    {
     "data": {
      "text/html": [
       "<div>\n",
       "<style scoped>\n",
       "    .dataframe tbody tr th:only-of-type {\n",
       "        vertical-align: middle;\n",
       "    }\n",
       "\n",
       "    .dataframe tbody tr th {\n",
       "        vertical-align: top;\n",
       "    }\n",
       "\n",
       "    .dataframe thead th {\n",
       "        text-align: right;\n",
       "    }\n",
       "</style>\n",
       "<table border=\"1\" class=\"dataframe\">\n",
       "  <thead>\n",
       "    <tr style=\"text-align: right;\">\n",
       "      <th></th>\n",
       "      <th>explicit</th>\n",
       "      <th>name</th>\n",
       "      <th>preview_url</th>\n",
       "      <th>album_type</th>\n",
       "      <th>album_id</th>\n",
       "      <th>album_release_date</th>\n",
       "      <th>album_release_date_precision</th>\n",
       "      <th>isrc</th>\n",
       "      <th>isrc_year</th>\n",
       "      <th>isrc_agency</th>\n",
       "      <th>...</th>\n",
       "      <th>tempo</th>\n",
       "      <th>duration_ms</th>\n",
       "      <th>time_signature</th>\n",
       "      <th>artist_id_1</th>\n",
       "      <th>artist_id_2</th>\n",
       "      <th>artist_id_3</th>\n",
       "      <th>artist_name_1</th>\n",
       "      <th>artist_name_2</th>\n",
       "      <th>artist_name_3</th>\n",
       "      <th>genres</th>\n",
       "    </tr>\n",
       "    <tr>\n",
       "      <th>id</th>\n",
       "      <th></th>\n",
       "      <th></th>\n",
       "      <th></th>\n",
       "      <th></th>\n",
       "      <th></th>\n",
       "      <th></th>\n",
       "      <th></th>\n",
       "      <th></th>\n",
       "      <th></th>\n",
       "      <th></th>\n",
       "      <th></th>\n",
       "      <th></th>\n",
       "      <th></th>\n",
       "      <th></th>\n",
       "      <th></th>\n",
       "      <th></th>\n",
       "      <th></th>\n",
       "      <th></th>\n",
       "      <th></th>\n",
       "      <th></th>\n",
       "      <th></th>\n",
       "    </tr>\n",
       "  </thead>\n",
       "  <tbody>\n",
       "    <tr>\n",
       "      <th>000RW47rhEkSqjgTrZx7YX</th>\n",
       "      <td>False</td>\n",
       "      <td>Lance Individual</td>\n",
       "      <td>https://p.scdn.co/mp3-preview/c64292f4c53560bc...</td>\n",
       "      <td>album</td>\n",
       "      <td>57h6WHDjwNGIs5NMeKYEoL</td>\n",
       "      <td>2021-04-22</td>\n",
       "      <td>day</td>\n",
       "      <td>BRRGE2010642</td>\n",
       "      <td>2020.0</td>\n",
       "      <td>Pro-música Brazil</td>\n",
       "      <td>...</td>\n",
       "      <td>117.399</td>\n",
       "      <td>164459.0</td>\n",
       "      <td>4.0</td>\n",
       "      <td>1elUiq4X7pxej6FRlrEzjM</td>\n",
       "      <td>NaN</td>\n",
       "      <td>NaN</td>\n",
       "      <td>Jorge &amp; Mateus</td>\n",
       "      <td>NaN</td>\n",
       "      <td>NaN</td>\n",
       "      <td>[arrocha, sertanejo, sertanejo universitario]</td>\n",
       "    </tr>\n",
       "    <tr>\n",
       "      <th>000xQL6tZNLJzIrtIgxqSl</th>\n",
       "      <td>False</td>\n",
       "      <td>Still Got Time (feat. PARTYNEXTDOOR)</td>\n",
       "      <td>https://p.scdn.co/mp3-preview/83fad967740b8a85...</td>\n",
       "      <td>single</td>\n",
       "      <td>2kGUeTGnkLOYlinKRJe47G</td>\n",
       "      <td>2017-03-23</td>\n",
       "      <td>day</td>\n",
       "      <td>USRC11700675</td>\n",
       "      <td>2017.0</td>\n",
       "      <td>RIAA</td>\n",
       "      <td>...</td>\n",
       "      <td>120.963</td>\n",
       "      <td>188491.0</td>\n",
       "      <td>4.0</td>\n",
       "      <td>5ZsFI1h6hIdQRw2ti0hz81</td>\n",
       "      <td>2HPaUgqeutzr3jx5a9WyDV</td>\n",
       "      <td>NaN</td>\n",
       "      <td>ZAYN</td>\n",
       "      <td>PARTYNEXTDOOR</td>\n",
       "      <td>NaN</td>\n",
       "      <td>[dance pop, pop, post-teen pop, uk pop, r&amp;b, r...</td>\n",
       "    </tr>\n",
       "    <tr>\n",
       "      <th>000xYdQfIZ4pDmBGzQalKU</th>\n",
       "      <td>False</td>\n",
       "      <td>Eu, Você, O Mar e Ela</td>\n",
       "      <td>https://p.scdn.co/mp3-preview/ae0e943883e06623...</td>\n",
       "      <td>album</td>\n",
       "      <td>4QianJs5Ls4mxwcT7gDBww</td>\n",
       "      <td>2016-11-04</td>\n",
       "      <td>day</td>\n",
       "      <td>BRRGE1603547</td>\n",
       "      <td>2016.0</td>\n",
       "      <td>Pro-música Brazil</td>\n",
       "      <td>...</td>\n",
       "      <td>166.018</td>\n",
       "      <td>187119.0</td>\n",
       "      <td>4.0</td>\n",
       "      <td>3qvcCP2J0fWi0m0uQDUf6r</td>\n",
       "      <td>NaN</td>\n",
       "      <td>NaN</td>\n",
       "      <td>Luan Santana</td>\n",
       "      <td>NaN</td>\n",
       "      <td>NaN</td>\n",
       "      <td>[arrocha, sertanejo, sertanejo pop, sertanejo ...</td>\n",
       "    </tr>\n",
       "    <tr>\n",
       "      <th>001b8t3bYPfnabpjpfG1Y4</th>\n",
       "      <td>True</td>\n",
       "      <td>Geen Stof</td>\n",
       "      <td>https://p.scdn.co/mp3-preview/535320aa4cbc5811...</td>\n",
       "      <td>album</td>\n",
       "      <td>06v2EPzWTwcP0egTJVrPdU</td>\n",
       "      <td>2021-01-21</td>\n",
       "      <td>day</td>\n",
       "      <td>NLG662000948</td>\n",
       "      <td>2020.0</td>\n",
       "      <td>SENA</td>\n",
       "      <td>...</td>\n",
       "      <td>95.951</td>\n",
       "      <td>167866.0</td>\n",
       "      <td>4.0</td>\n",
       "      <td>1wFoE1RwBMWoWkXcFrCgsx</td>\n",
       "      <td>NaN</td>\n",
       "      <td>NaN</td>\n",
       "      <td>Josylvio</td>\n",
       "      <td>NaN</td>\n",
       "      <td>NaN</td>\n",
       "      <td>[dutch hip hop]</td>\n",
       "    </tr>\n",
       "    <tr>\n",
       "      <th>003VDDA7J3Xb2ZFlNx7nIZ</th>\n",
       "      <td>True</td>\n",
       "      <td>YELL OH</td>\n",
       "      <td>https://p.scdn.co/mp3-preview/14e659590d1a70cf...</td>\n",
       "      <td>single</td>\n",
       "      <td>2orYogfKeURqyS1hRP1vZ4</td>\n",
       "      <td>2020-02-07</td>\n",
       "      <td>day</td>\n",
       "      <td>QZJ842000061</td>\n",
       "      <td>2020.0</td>\n",
       "      <td>RIAA</td>\n",
       "      <td>...</td>\n",
       "      <td>74.496</td>\n",
       "      <td>236779.0</td>\n",
       "      <td>4.0</td>\n",
       "      <td>6Xgp2XMz1fhVYe7i6yNAax</td>\n",
       "      <td>50co4Is1HCEo8bhOyUWKpn</td>\n",
       "      <td>NaN</td>\n",
       "      <td>Trippie Redd</td>\n",
       "      <td>Young Thug</td>\n",
       "      <td>NaN</td>\n",
       "      <td>[melodic rap, rap, trap, atl hip hop, atl trap...</td>\n",
       "    </tr>\n",
       "    <tr>\n",
       "      <th>...</th>\n",
       "      <td>...</td>\n",
       "      <td>...</td>\n",
       "      <td>...</td>\n",
       "      <td>...</td>\n",
       "      <td>...</td>\n",
       "      <td>...</td>\n",
       "      <td>...</td>\n",
       "      <td>...</td>\n",
       "      <td>...</td>\n",
       "      <td>...</td>\n",
       "      <td>...</td>\n",
       "      <td>...</td>\n",
       "      <td>...</td>\n",
       "      <td>...</td>\n",
       "      <td>...</td>\n",
       "      <td>...</td>\n",
       "      <td>...</td>\n",
       "      <td>...</td>\n",
       "      <td>...</td>\n",
       "      <td>...</td>\n",
       "      <td>...</td>\n",
       "    </tr>\n",
       "    <tr>\n",
       "      <th>7zxphfIdUMOfZOAVpKFlld</th>\n",
       "      <td>True</td>\n",
       "      <td>Trapper Of The Year (Intro)</td>\n",
       "      <td>https://p.scdn.co/mp3-preview/b48d68019fc66831...</td>\n",
       "      <td>single</td>\n",
       "      <td>65DP4VYecvLUlUVfCsXPLF</td>\n",
       "      <td>2021-11-19</td>\n",
       "      <td>day</td>\n",
       "      <td>SE6XY2184006</td>\n",
       "      <td>2021.0</td>\n",
       "      <td>IFPI Sweden</td>\n",
       "      <td>...</td>\n",
       "      <td>121.913</td>\n",
       "      <td>110164.0</td>\n",
       "      <td>4.0</td>\n",
       "      <td>2Dor6diK1zw9BEluKBOdoA</td>\n",
       "      <td>NaN</td>\n",
       "      <td>NaN</td>\n",
       "      <td>23</td>\n",
       "      <td>NaN</td>\n",
       "      <td>NaN</td>\n",
       "      <td>[swedish drill, swedish hip hop, swedish trap ...</td>\n",
       "    </tr>\n",
       "    <tr>\n",
       "      <th>7zyYmIdjqqiX6kLryb7QBx</th>\n",
       "      <td>False</td>\n",
       "      <td>以後別做朋友</td>\n",
       "      <td>https://p.scdn.co/mp3-preview/4d243321f0ec66ba...</td>\n",
       "      <td>album</td>\n",
       "      <td>1JEzXcEYuEFKKmo4mfMgC7</td>\n",
       "      <td>2014-12-19</td>\n",
       "      <td>day</td>\n",
       "      <td>TWA471410001</td>\n",
       "      <td>2014.0</td>\n",
       "      <td>RIT</td>\n",
       "      <td>...</td>\n",
       "      <td>130.576</td>\n",
       "      <td>260573.0</td>\n",
       "      <td>4.0</td>\n",
       "      <td>5fEQLwq1BWWQNR8GzhOIvi</td>\n",
       "      <td>NaN</td>\n",
       "      <td>NaN</td>\n",
       "      <td>Eric Chou</td>\n",
       "      <td>NaN</td>\n",
       "      <td>NaN</td>\n",
       "      <td>[mandopop]</td>\n",
       "    </tr>\n",
       "    <tr>\n",
       "      <th>7zyZ9yPXIQebb79PrMghpV</th>\n",
       "      <td>False</td>\n",
       "      <td>Zap Zum</td>\n",
       "      <td>https://p.scdn.co/mp3-preview/2f82c76f077fb377...</td>\n",
       "      <td>album</td>\n",
       "      <td>194szTkDIGJsa9iZJNStwN</td>\n",
       "      <td>2021-06-24</td>\n",
       "      <td>day</td>\n",
       "      <td>BCM112100037</td>\n",
       "      <td>2021.0</td>\n",
       "      <td>Pro-música Brazil</td>\n",
       "      <td>...</td>\n",
       "      <td>169.123</td>\n",
       "      <td>167503.0</td>\n",
       "      <td>4.0</td>\n",
       "      <td>6tzRZ39aZlNqlUzQlkuhDV</td>\n",
       "      <td>NaN</td>\n",
       "      <td>NaN</td>\n",
       "      <td>Pabllo Vittar</td>\n",
       "      <td>NaN</td>\n",
       "      <td>NaN</td>\n",
       "      <td>[dance pop, funk carioca, funk pop, pop, pop l...</td>\n",
       "    </tr>\n",
       "    <tr>\n",
       "      <th>7zyofXGhXgaqT8fhvLufdf</th>\n",
       "      <td>False</td>\n",
       "      <td>Kuka Antais Pukille?</td>\n",
       "      <td>https://p.scdn.co/mp3-preview/236ec096925cdb1f...</td>\n",
       "      <td>single</td>\n",
       "      <td>2QIHDFGxEjYdVg8Y1QYBRv</td>\n",
       "      <td>2018-11-21</td>\n",
       "      <td>day</td>\n",
       "      <td>FIUM71800543</td>\n",
       "      <td>2018.0</td>\n",
       "      <td>IFPI Finland</td>\n",
       "      <td>...</td>\n",
       "      <td>89.982</td>\n",
       "      <td>241564.0</td>\n",
       "      <td>4.0</td>\n",
       "      <td>3zh3U2eQ64EhBFbJuxgf1M</td>\n",
       "      <td>05qPtpcSltJZLI9sj0qm3B</td>\n",
       "      <td>4l0zTor5S32Yly4uw96Bto</td>\n",
       "      <td>Teflon Brothers</td>\n",
       "      <td>Spekti</td>\n",
       "      <td>Petri Nygård</td>\n",
       "      <td>[eurovision, finnish dance pop, finnish hip ho...</td>\n",
       "    </tr>\n",
       "    <tr>\n",
       "      <th>7zzhknA0A39TH81meuX7WA</th>\n",
       "      <td>True</td>\n",
       "      <td>C'est pas des LOL</td>\n",
       "      <td>https://p.scdn.co/mp3-preview/5724fd69cc6a400c...</td>\n",
       "      <td>album</td>\n",
       "      <td>3Jtj1RlmKnRvBkp3YJWHXO</td>\n",
       "      <td>2019-10-04</td>\n",
       "      <td>day</td>\n",
       "      <td>FR96X1941264</td>\n",
       "      <td>2019.0</td>\n",
       "      <td>SCPP</td>\n",
       "      <td>...</td>\n",
       "      <td>132.004</td>\n",
       "      <td>279467.0</td>\n",
       "      <td>4.0</td>\n",
       "      <td>3IW7ScrzXmPvZhB27hmfgy</td>\n",
       "      <td>NaN</td>\n",
       "      <td>NaN</td>\n",
       "      <td>Jul</td>\n",
       "      <td>NaN</td>\n",
       "      <td>NaN</td>\n",
       "      <td>[francoton, rap marseille]</td>\n",
       "    </tr>\n",
       "  </tbody>\n",
       "</table>\n",
       "<p>33881 rows × 31 columns</p>\n",
       "</div>"
      ],
      "text/plain": [
       "                        explicit                                  name  \\\n",
       "id                                                                       \n",
       "000RW47rhEkSqjgTrZx7YX     False                      Lance Individual   \n",
       "000xQL6tZNLJzIrtIgxqSl     False  Still Got Time (feat. PARTYNEXTDOOR)   \n",
       "000xYdQfIZ4pDmBGzQalKU     False                 Eu, Você, O Mar e Ela   \n",
       "001b8t3bYPfnabpjpfG1Y4      True                             Geen Stof   \n",
       "003VDDA7J3Xb2ZFlNx7nIZ      True                               YELL OH   \n",
       "...                          ...                                   ...   \n",
       "7zxphfIdUMOfZOAVpKFlld      True           Trapper Of The Year (Intro)   \n",
       "7zyYmIdjqqiX6kLryb7QBx     False                                以後別做朋友   \n",
       "7zyZ9yPXIQebb79PrMghpV     False                               Zap Zum   \n",
       "7zyofXGhXgaqT8fhvLufdf     False                  Kuka Antais Pukille?   \n",
       "7zzhknA0A39TH81meuX7WA      True                     C'est pas des LOL   \n",
       "\n",
       "                                                              preview_url  \\\n",
       "id                                                                          \n",
       "000RW47rhEkSqjgTrZx7YX  https://p.scdn.co/mp3-preview/c64292f4c53560bc...   \n",
       "000xQL6tZNLJzIrtIgxqSl  https://p.scdn.co/mp3-preview/83fad967740b8a85...   \n",
       "000xYdQfIZ4pDmBGzQalKU  https://p.scdn.co/mp3-preview/ae0e943883e06623...   \n",
       "001b8t3bYPfnabpjpfG1Y4  https://p.scdn.co/mp3-preview/535320aa4cbc5811...   \n",
       "003VDDA7J3Xb2ZFlNx7nIZ  https://p.scdn.co/mp3-preview/14e659590d1a70cf...   \n",
       "...                                                                   ...   \n",
       "7zxphfIdUMOfZOAVpKFlld  https://p.scdn.co/mp3-preview/b48d68019fc66831...   \n",
       "7zyYmIdjqqiX6kLryb7QBx  https://p.scdn.co/mp3-preview/4d243321f0ec66ba...   \n",
       "7zyZ9yPXIQebb79PrMghpV  https://p.scdn.co/mp3-preview/2f82c76f077fb377...   \n",
       "7zyofXGhXgaqT8fhvLufdf  https://p.scdn.co/mp3-preview/236ec096925cdb1f...   \n",
       "7zzhknA0A39TH81meuX7WA  https://p.scdn.co/mp3-preview/5724fd69cc6a400c...   \n",
       "\n",
       "                       album_type                album_id album_release_date  \\\n",
       "id                                                                             \n",
       "000RW47rhEkSqjgTrZx7YX      album  57h6WHDjwNGIs5NMeKYEoL         2021-04-22   \n",
       "000xQL6tZNLJzIrtIgxqSl     single  2kGUeTGnkLOYlinKRJe47G         2017-03-23   \n",
       "000xYdQfIZ4pDmBGzQalKU      album  4QianJs5Ls4mxwcT7gDBww         2016-11-04   \n",
       "001b8t3bYPfnabpjpfG1Y4      album  06v2EPzWTwcP0egTJVrPdU         2021-01-21   \n",
       "003VDDA7J3Xb2ZFlNx7nIZ     single  2orYogfKeURqyS1hRP1vZ4         2020-02-07   \n",
       "...                           ...                     ...                ...   \n",
       "7zxphfIdUMOfZOAVpKFlld     single  65DP4VYecvLUlUVfCsXPLF         2021-11-19   \n",
       "7zyYmIdjqqiX6kLryb7QBx      album  1JEzXcEYuEFKKmo4mfMgC7         2014-12-19   \n",
       "7zyZ9yPXIQebb79PrMghpV      album  194szTkDIGJsa9iZJNStwN         2021-06-24   \n",
       "7zyofXGhXgaqT8fhvLufdf     single  2QIHDFGxEjYdVg8Y1QYBRv         2018-11-21   \n",
       "7zzhknA0A39TH81meuX7WA      album  3Jtj1RlmKnRvBkp3YJWHXO         2019-10-04   \n",
       "\n",
       "                       album_release_date_precision          isrc  isrc_year  \\\n",
       "id                                                                             \n",
       "000RW47rhEkSqjgTrZx7YX                          day  BRRGE2010642     2020.0   \n",
       "000xQL6tZNLJzIrtIgxqSl                          day  USRC11700675     2017.0   \n",
       "000xYdQfIZ4pDmBGzQalKU                          day  BRRGE1603547     2016.0   \n",
       "001b8t3bYPfnabpjpfG1Y4                          day  NLG662000948     2020.0   \n",
       "003VDDA7J3Xb2ZFlNx7nIZ                          day  QZJ842000061     2020.0   \n",
       "...                                             ...           ...        ...   \n",
       "7zxphfIdUMOfZOAVpKFlld                          day  SE6XY2184006     2021.0   \n",
       "7zyYmIdjqqiX6kLryb7QBx                          day  TWA471410001     2014.0   \n",
       "7zyZ9yPXIQebb79PrMghpV                          day  BCM112100037     2021.0   \n",
       "7zyofXGhXgaqT8fhvLufdf                          day  FIUM71800543     2018.0   \n",
       "7zzhknA0A39TH81meuX7WA                          day  FR96X1941264     2019.0   \n",
       "\n",
       "                              isrc_agency  ...    tempo  duration_ms  \\\n",
       "id                                         ...                         \n",
       "000RW47rhEkSqjgTrZx7YX  Pro-música Brazil  ...  117.399     164459.0   \n",
       "000xQL6tZNLJzIrtIgxqSl               RIAA  ...  120.963     188491.0   \n",
       "000xYdQfIZ4pDmBGzQalKU  Pro-música Brazil  ...  166.018     187119.0   \n",
       "001b8t3bYPfnabpjpfG1Y4               SENA  ...   95.951     167866.0   \n",
       "003VDDA7J3Xb2ZFlNx7nIZ               RIAA  ...   74.496     236779.0   \n",
       "...                                   ...  ...      ...          ...   \n",
       "7zxphfIdUMOfZOAVpKFlld        IFPI Sweden  ...  121.913     110164.0   \n",
       "7zyYmIdjqqiX6kLryb7QBx                RIT  ...  130.576     260573.0   \n",
       "7zyZ9yPXIQebb79PrMghpV  Pro-música Brazil  ...  169.123     167503.0   \n",
       "7zyofXGhXgaqT8fhvLufdf       IFPI Finland  ...   89.982     241564.0   \n",
       "7zzhknA0A39TH81meuX7WA               SCPP  ...  132.004     279467.0   \n",
       "\n",
       "                        time_signature             artist_id_1  \\\n",
       "id                                                               \n",
       "000RW47rhEkSqjgTrZx7YX             4.0  1elUiq4X7pxej6FRlrEzjM   \n",
       "000xQL6tZNLJzIrtIgxqSl             4.0  5ZsFI1h6hIdQRw2ti0hz81   \n",
       "000xYdQfIZ4pDmBGzQalKU             4.0  3qvcCP2J0fWi0m0uQDUf6r   \n",
       "001b8t3bYPfnabpjpfG1Y4             4.0  1wFoE1RwBMWoWkXcFrCgsx   \n",
       "003VDDA7J3Xb2ZFlNx7nIZ             4.0  6Xgp2XMz1fhVYe7i6yNAax   \n",
       "...                                ...                     ...   \n",
       "7zxphfIdUMOfZOAVpKFlld             4.0  2Dor6diK1zw9BEluKBOdoA   \n",
       "7zyYmIdjqqiX6kLryb7QBx             4.0  5fEQLwq1BWWQNR8GzhOIvi   \n",
       "7zyZ9yPXIQebb79PrMghpV             4.0  6tzRZ39aZlNqlUzQlkuhDV   \n",
       "7zyofXGhXgaqT8fhvLufdf             4.0  3zh3U2eQ64EhBFbJuxgf1M   \n",
       "7zzhknA0A39TH81meuX7WA             4.0  3IW7ScrzXmPvZhB27hmfgy   \n",
       "\n",
       "                                   artist_id_2             artist_id_3  \\\n",
       "id                                                                       \n",
       "000RW47rhEkSqjgTrZx7YX                     NaN                     NaN   \n",
       "000xQL6tZNLJzIrtIgxqSl  2HPaUgqeutzr3jx5a9WyDV                     NaN   \n",
       "000xYdQfIZ4pDmBGzQalKU                     NaN                     NaN   \n",
       "001b8t3bYPfnabpjpfG1Y4                     NaN                     NaN   \n",
       "003VDDA7J3Xb2ZFlNx7nIZ  50co4Is1HCEo8bhOyUWKpn                     NaN   \n",
       "...                                        ...                     ...   \n",
       "7zxphfIdUMOfZOAVpKFlld                     NaN                     NaN   \n",
       "7zyYmIdjqqiX6kLryb7QBx                     NaN                     NaN   \n",
       "7zyZ9yPXIQebb79PrMghpV                     NaN                     NaN   \n",
       "7zyofXGhXgaqT8fhvLufdf  05qPtpcSltJZLI9sj0qm3B  4l0zTor5S32Yly4uw96Bto   \n",
       "7zzhknA0A39TH81meuX7WA                     NaN                     NaN   \n",
       "\n",
       "                          artist_name_1  artist_name_2  artist_name_3  \\\n",
       "id                                                                      \n",
       "000RW47rhEkSqjgTrZx7YX   Jorge & Mateus            NaN            NaN   \n",
       "000xQL6tZNLJzIrtIgxqSl             ZAYN  PARTYNEXTDOOR            NaN   \n",
       "000xYdQfIZ4pDmBGzQalKU     Luan Santana            NaN            NaN   \n",
       "001b8t3bYPfnabpjpfG1Y4         Josylvio            NaN            NaN   \n",
       "003VDDA7J3Xb2ZFlNx7nIZ     Trippie Redd     Young Thug            NaN   \n",
       "...                                 ...            ...            ...   \n",
       "7zxphfIdUMOfZOAVpKFlld               23            NaN            NaN   \n",
       "7zyYmIdjqqiX6kLryb7QBx        Eric Chou            NaN            NaN   \n",
       "7zyZ9yPXIQebb79PrMghpV    Pabllo Vittar            NaN            NaN   \n",
       "7zyofXGhXgaqT8fhvLufdf  Teflon Brothers         Spekti   Petri Nygård   \n",
       "7zzhknA0A39TH81meuX7WA              Jul            NaN            NaN   \n",
       "\n",
       "                                                                   genres  \n",
       "id                                                                         \n",
       "000RW47rhEkSqjgTrZx7YX      [arrocha, sertanejo, sertanejo universitario]  \n",
       "000xQL6tZNLJzIrtIgxqSl  [dance pop, pop, post-teen pop, uk pop, r&b, r...  \n",
       "000xYdQfIZ4pDmBGzQalKU  [arrocha, sertanejo, sertanejo pop, sertanejo ...  \n",
       "001b8t3bYPfnabpjpfG1Y4                                    [dutch hip hop]  \n",
       "003VDDA7J3Xb2ZFlNx7nIZ  [melodic rap, rap, trap, atl hip hop, atl trap...  \n",
       "...                                                                   ...  \n",
       "7zxphfIdUMOfZOAVpKFlld  [swedish drill, swedish hip hop, swedish trap ...  \n",
       "7zyYmIdjqqiX6kLryb7QBx                                         [mandopop]  \n",
       "7zyZ9yPXIQebb79PrMghpV  [dance pop, funk carioca, funk pop, pop, pop l...  \n",
       "7zyofXGhXgaqT8fhvLufdf  [eurovision, finnish dance pop, finnish hip ho...  \n",
       "7zzhknA0A39TH81meuX7WA                         [francoton, rap marseille]  \n",
       "\n",
       "[33881 rows x 31 columns]"
      ]
     },
     "execution_count": 3,
     "metadata": {},
     "output_type": "execute_result"
    }
   ],
   "source": [
    "tracks = get_track_data()\n",
    "tracks"
   ]
  },
  {
   "cell_type": "code",
   "execution_count": 4,
   "metadata": {},
   "outputs": [
    {
     "data": {
      "text/html": [
       "<div>\n",
       "<style scoped>\n",
       "    .dataframe tbody tr th:only-of-type {\n",
       "        vertical-align: middle;\n",
       "    }\n",
       "\n",
       "    .dataframe tbody tr th {\n",
       "        vertical-align: top;\n",
       "    }\n",
       "\n",
       "    .dataframe thead th {\n",
       "        text-align: right;\n",
       "    }\n",
       "</style>\n",
       "<table border=\"1\" class=\"dataframe\">\n",
       "  <thead>\n",
       "    <tr style=\"text-align: right;\">\n",
       "      <th></th>\n",
       "      <th>country</th>\n",
       "      <th>date</th>\n",
       "      <th>rank</th>\n",
       "      <th>streams</th>\n",
       "      <th>id</th>\n",
       "      <th>iso_alpha3</th>\n",
       "      <th>iso_alpha2</th>\n",
       "      <th>geo_region</th>\n",
       "      <th>geo_subregion</th>\n",
       "    </tr>\n",
       "  </thead>\n",
       "  <tbody>\n",
       "    <tr>\n",
       "      <th>0</th>\n",
       "      <td>Argentina</td>\n",
       "      <td>2017-01-01</td>\n",
       "      <td>1</td>\n",
       "      <td>253019.0</td>\n",
       "      <td>6mICuAdrwEjh6Y6lroV2Kg</td>\n",
       "      <td>ARG</td>\n",
       "      <td>AR</td>\n",
       "      <td>Americas</td>\n",
       "      <td>Latin America and the Caribbean</td>\n",
       "    </tr>\n",
       "    <tr>\n",
       "      <th>1</th>\n",
       "      <td>Argentina</td>\n",
       "      <td>2017-01-01</td>\n",
       "      <td>2</td>\n",
       "      <td>223988.0</td>\n",
       "      <td>7DM4BPaS7uofFul3ywMe46</td>\n",
       "      <td>ARG</td>\n",
       "      <td>AR</td>\n",
       "      <td>Americas</td>\n",
       "      <td>Latin America and the Caribbean</td>\n",
       "    </tr>\n",
       "    <tr>\n",
       "      <th>2</th>\n",
       "      <td>Argentina</td>\n",
       "      <td>2017-01-01</td>\n",
       "      <td>3</td>\n",
       "      <td>210943.0</td>\n",
       "      <td>3AEZUABDXNtecAOSC1qTfo</td>\n",
       "      <td>ARG</td>\n",
       "      <td>AR</td>\n",
       "      <td>Americas</td>\n",
       "      <td>Latin America and the Caribbean</td>\n",
       "    </tr>\n",
       "    <tr>\n",
       "      <th>3</th>\n",
       "      <td>Argentina</td>\n",
       "      <td>2017-01-01</td>\n",
       "      <td>4</td>\n",
       "      <td>173865.0</td>\n",
       "      <td>6rQSrBHf7HlZjtcMZ4S4bO</td>\n",
       "      <td>ARG</td>\n",
       "      <td>AR</td>\n",
       "      <td>Americas</td>\n",
       "      <td>Latin America and the Caribbean</td>\n",
       "    </tr>\n",
       "    <tr>\n",
       "      <th>4</th>\n",
       "      <td>Argentina</td>\n",
       "      <td>2017-01-01</td>\n",
       "      <td>5</td>\n",
       "      <td>153956.0</td>\n",
       "      <td>58IL315gMSTD37DOZPJ2hf</td>\n",
       "      <td>ARG</td>\n",
       "      <td>AR</td>\n",
       "      <td>Americas</td>\n",
       "      <td>Latin America and the Caribbean</td>\n",
       "    </tr>\n",
       "    <tr>\n",
       "      <th>...</th>\n",
       "      <td>...</td>\n",
       "      <td>...</td>\n",
       "      <td>...</td>\n",
       "      <td>...</td>\n",
       "      <td>...</td>\n",
       "      <td>...</td>\n",
       "      <td>...</td>\n",
       "      <td>...</td>\n",
       "      <td>...</td>\n",
       "    </tr>\n",
       "    <tr>\n",
       "      <th>4472525</th>\n",
       "      <td>Uruguay</td>\n",
       "      <td>2021-08-13</td>\n",
       "      <td>25</td>\n",
       "      <td>11431.0</td>\n",
       "      <td>4aXicRG47bBEcKXlDaSRwW</td>\n",
       "      <td>URY</td>\n",
       "      <td>UY</td>\n",
       "      <td>Americas</td>\n",
       "      <td>Latin America and the Caribbean</td>\n",
       "    </tr>\n",
       "    <tr>\n",
       "      <th>4472526</th>\n",
       "      <td>Uruguay</td>\n",
       "      <td>2021-08-13</td>\n",
       "      <td>27</td>\n",
       "      <td>10946.0</td>\n",
       "      <td>43qcs9NpJhDxtG91zxFkj7</td>\n",
       "      <td>URY</td>\n",
       "      <td>UY</td>\n",
       "      <td>Americas</td>\n",
       "      <td>Latin America and the Caribbean</td>\n",
       "    </tr>\n",
       "    <tr>\n",
       "      <th>4472527</th>\n",
       "      <td>Uruguay</td>\n",
       "      <td>2021-08-13</td>\n",
       "      <td>33</td>\n",
       "      <td>9994.0</td>\n",
       "      <td>4M4DTyLupKvbJKlE4I4EYq</td>\n",
       "      <td>URY</td>\n",
       "      <td>UY</td>\n",
       "      <td>Americas</td>\n",
       "      <td>Latin America and the Caribbean</td>\n",
       "    </tr>\n",
       "    <tr>\n",
       "      <th>4472528</th>\n",
       "      <td>Uruguay</td>\n",
       "      <td>2021-08-13</td>\n",
       "      <td>35</td>\n",
       "      <td>9251.0</td>\n",
       "      <td>5jzEwSyyymBlf1fa1o39T2</td>\n",
       "      <td>URY</td>\n",
       "      <td>UY</td>\n",
       "      <td>Americas</td>\n",
       "      <td>Latin America and the Caribbean</td>\n",
       "    </tr>\n",
       "    <tr>\n",
       "      <th>4472529</th>\n",
       "      <td>Uruguay</td>\n",
       "      <td>2021-08-13</td>\n",
       "      <td>36</td>\n",
       "      <td>9179.0</td>\n",
       "      <td>5PjdY0CKGZdEuoNab3yDmX</td>\n",
       "      <td>URY</td>\n",
       "      <td>UY</td>\n",
       "      <td>Americas</td>\n",
       "      <td>Latin America and the Caribbean</td>\n",
       "    </tr>\n",
       "  </tbody>\n",
       "</table>\n",
       "<p>4472530 rows × 9 columns</p>\n",
       "</div>"
      ],
      "text/plain": [
       "           country       date  rank   streams                      id  \\\n",
       "0        Argentina 2017-01-01     1  253019.0  6mICuAdrwEjh6Y6lroV2Kg   \n",
       "1        Argentina 2017-01-01     2  223988.0  7DM4BPaS7uofFul3ywMe46   \n",
       "2        Argentina 2017-01-01     3  210943.0  3AEZUABDXNtecAOSC1qTfo   \n",
       "3        Argentina 2017-01-01     4  173865.0  6rQSrBHf7HlZjtcMZ4S4bO   \n",
       "4        Argentina 2017-01-01     5  153956.0  58IL315gMSTD37DOZPJ2hf   \n",
       "...            ...        ...   ...       ...                     ...   \n",
       "4472525    Uruguay 2021-08-13    25   11431.0  4aXicRG47bBEcKXlDaSRwW   \n",
       "4472526    Uruguay 2021-08-13    27   10946.0  43qcs9NpJhDxtG91zxFkj7   \n",
       "4472527    Uruguay 2021-08-13    33    9994.0  4M4DTyLupKvbJKlE4I4EYq   \n",
       "4472528    Uruguay 2021-08-13    35    9251.0  5jzEwSyyymBlf1fa1o39T2   \n",
       "4472529    Uruguay 2021-08-13    36    9179.0  5PjdY0CKGZdEuoNab3yDmX   \n",
       "\n",
       "        iso_alpha3 iso_alpha2 geo_region                    geo_subregion  \n",
       "0              ARG         AR   Americas  Latin America and the Caribbean  \n",
       "1              ARG         AR   Americas  Latin America and the Caribbean  \n",
       "2              ARG         AR   Americas  Latin America and the Caribbean  \n",
       "3              ARG         AR   Americas  Latin America and the Caribbean  \n",
       "4              ARG         AR   Americas  Latin America and the Caribbean  \n",
       "...            ...        ...        ...                              ...  \n",
       "4472525        URY         UY   Americas  Latin America and the Caribbean  \n",
       "4472526        URY         UY   Americas  Latin America and the Caribbean  \n",
       "4472527        URY         UY   Americas  Latin America and the Caribbean  \n",
       "4472528        URY         UY   Americas  Latin America and the Caribbean  \n",
       "4472529        URY         UY   Americas  Latin America and the Caribbean  \n",
       "\n",
       "[4472530 rows x 9 columns]"
      ]
     },
     "execution_count": 4,
     "metadata": {},
     "output_type": "execute_result"
    }
   ],
   "source": [
    "countries_charts = get_countries_charts()\n",
    "countries_charts"
   ]
  },
  {
   "cell_type": "code",
   "execution_count": 5,
   "metadata": {},
   "outputs": [
    {
     "data": {
      "text/plain": [
       "(33881, 31)"
      ]
     },
     "execution_count": 5,
     "metadata": {},
     "output_type": "execute_result"
    }
   ],
   "source": [
    "tracks.shape"
   ]
  },
  {
   "cell_type": "code",
   "execution_count": 12,
   "metadata": {},
   "outputs": [],
   "source": [
    "import numpy as np"
   ]
  },
  {
   "cell_type": "code",
   "execution_count": 13,
   "metadata": {},
   "outputs": [
    {
     "data": {
      "text/plain": [
       "array([list(['arrocha', 'sertanejo', 'sertanejo universitario']),\n",
       "       list(['dance pop', 'pop', 'post-teen pop', 'uk pop', 'r&b', 'rap', 'toronto rap', 'trap', 'urban contemporary']),\n",
       "       list(['arrocha', 'sertanejo', 'sertanejo pop', 'sertanejo universitario']),\n",
       "       ...,\n",
       "       list(['dance pop', 'funk carioca', 'funk pop', 'pop', 'pop lgbtq+ brasileira', 'pop nacional']),\n",
       "       list(['eurovision', 'finnish dance pop', 'finnish hip hop', 'finnish pop']),\n",
       "       list(['francoton', 'rap marseille'])], dtype=object)"
      ]
     },
     "execution_count": 13,
     "metadata": {},
     "output_type": "execute_result"
    }
   ],
   "source": [
    "np.array(tracks.genres.values)"
   ]
  },
  {
   "cell_type": "code",
   "execution_count": 23,
   "metadata": {},
   "outputs": [
    {
     "data": {
      "text/plain": [
       "0                         arrocha\n",
       "1                       sertanejo\n",
       "2         sertanejo universitario\n",
       "3                       dance pop\n",
       "4                             pop\n",
       "                   ...           \n",
       "108546          finnish dance pop\n",
       "108547            finnish hip hop\n",
       "108548                finnish pop\n",
       "108549                  francoton\n",
       "108550              rap marseille\n",
       "Length: 108551, dtype: object"
      ]
     },
     "execution_count": 23,
     "metadata": {},
     "output_type": "execute_result"
    }
   ],
   "source": [
    "all_genres = pd.Series(np.concatenate(tracks.genres.values))\n",
    "all_genres"
   ]
  },
  {
   "cell_type": "code",
   "execution_count": 28,
   "metadata": {},
   "outputs": [
    {
     "data": {
      "text/plain": [
       "0"
      ]
     },
     "execution_count": 28,
     "metadata": {},
     "output_type": "execute_result"
    }
   ],
   "source": [
    "all_genres.str.isupper().sum()"
   ]
  },
  {
   "cell_type": "code",
   "execution_count": 41,
   "metadata": {},
   "outputs": [
    {
     "data": {
      "text/plain": [
       "pop       32731\n",
       "hip       22739\n",
       "hop       22639\n",
       "rap       13525\n",
       "trap       9457\n",
       "          ...  \n",
       "jewish        1\n",
       "malian        1\n",
       "cuban         1\n",
       "violin        1\n",
       "early         1\n",
       "Length: 1120, dtype: int64"
      ]
     },
     "execution_count": 41,
     "metadata": {},
     "output_type": "execute_result"
    }
   ],
   "source": [
    "genre_unigrams = all_genres.str.split(\"\\s\", expand=True).stack()\n",
    "unigram_counts = genre_unigrams.value_counts()\n",
    "unigram_counts"
   ]
  },
  {
   "cell_type": "code",
   "execution_count": 42,
   "metadata": {},
   "outputs": [
    {
     "data": {
      "text/plain": [
       "count     1120.000000\n",
       "mean       204.122321\n",
       "std       1504.791381\n",
       "min          1.000000\n",
       "25%          2.000000\n",
       "50%          8.000000\n",
       "75%         41.000000\n",
       "max      32731.000000\n",
       "dtype: float64"
      ]
     },
     "execution_count": 42,
     "metadata": {},
     "output_type": "execute_result"
    }
   ],
   "source": [
    "unigram_counts.describe()"
   ]
  },
  {
   "cell_type": "code",
   "execution_count": 45,
   "metadata": {},
   "outputs": [
    {
     "data": {
      "text/plain": [
       "1120"
      ]
     },
     "execution_count": 45,
     "metadata": {},
     "output_type": "execute_result"
    }
   ],
   "source": [
    "len(unigram_counts)"
   ]
  },
  {
   "cell_type": "code",
   "execution_count": 46,
   "metadata": {},
   "outputs": [
    {
     "data": {
      "text/plain": [
       "228617"
      ]
     },
     "execution_count": 46,
     "metadata": {},
     "output_type": "execute_result"
    }
   ],
   "source": [
    "unigram_counts.sum()"
   ]
  },
  {
   "cell_type": "code",
   "execution_count": 51,
   "metadata": {},
   "outputs": [
    {
     "data": {
      "text/plain": [
       "181181"
      ]
     },
     "execution_count": 51,
     "metadata": {},
     "output_type": "execute_result"
    }
   ],
   "source": [
    "unigram_counts[:50].sum()"
   ]
  },
  {
   "cell_type": "code",
   "execution_count": 52,
   "metadata": {},
   "outputs": [
    {
     "data": {
      "text/plain": [
       "pop            32731\n",
       "hip            22739\n",
       "hop            22639\n",
       "rap            13525\n",
       "trap            9457\n",
       "dance           4937\n",
       "finnish         4292\n",
       "swedish         4228\n",
       "german          3961\n",
       "italian         3603\n",
       "dutch           3008\n",
       "rock            2937\n",
       "reggaeton       2807\n",
       "polish          2514\n",
       "french          2469\n",
       "house           2318\n",
       "danish          2154\n",
       "indie           2147\n",
       "urbaine         2145\n",
       "latino          1949\n",
       "turkish         1940\n",
       "drill           1938\n",
       "icelandic       1895\n",
       "latin           1860\n",
       "uk              1857\n",
       "greek           1615\n",
       "czsk            1606\n",
       "francais        1451\n",
       "czech           1362\n",
       "edm             1312\n",
       "r&b             1169\n",
       "francoton       1158\n",
       "tropical        1147\n",
       "funk            1027\n",
       "norwegian       1000\n",
       "canadian         954\n",
       "melodic          938\n",
       "classic          928\n",
       "sertanejo        925\n",
       "alternative      893\n",
       "italiana         846\n",
       "mandopop         817\n",
       "k-pop            805\n",
       "conscient        788\n",
       "taiwan           785\n",
       "post-teen        772\n",
       "atl              765\n",
       "electropop       737\n",
       "slovak           680\n",
       "electro          651\n",
       "dtype: int64"
      ]
     },
     "execution_count": 52,
     "metadata": {},
     "output_type": "execute_result"
    }
   ],
   "source": [
    "unigram_counts[:50]"
   ]
  },
  {
   "cell_type": "code",
   "execution_count": null,
   "metadata": {},
   "outputs": [],
   "source": [
    "genre_unigrams"
   ]
  },
  {
   "cell_type": "code",
   "execution_count": 30,
   "metadata": {},
   "outputs": [
    {
     "data": {
      "text/plain": [
       "87056"
      ]
     },
     "execution_count": 30,
     "metadata": {},
     "output_type": "execute_result"
    }
   ],
   "source": [
    "all_genres.str.contains(\" \").sum()"
   ]
  },
  {
   "cell_type": "code",
   "execution_count": 31,
   "metadata": {},
   "outputs": [
    {
     "data": {
      "text/plain": [
       "37163"
      ]
     },
     "execution_count": 31,
     "metadata": {},
     "output_type": "execute_result"
    }
   ],
   "source": [
    "all_genres.str.contains(\"pop\").sum()"
   ]
  },
  {
   "cell_type": "code",
   "execution_count": 32,
   "metadata": {},
   "outputs": [
    {
     "data": {
      "text/plain": [
       "3128"
      ]
     },
     "execution_count": 32,
     "metadata": {},
     "output_type": "execute_result"
    }
   ],
   "source": [
    "all_genres.str.contains(\"rock\").sum()"
   ]
  },
  {
   "cell_type": "code",
   "execution_count": 34,
   "metadata": {},
   "outputs": [
    {
     "data": {
      "text/plain": [
       "22634"
      ]
     },
     "execution_count": 34,
     "metadata": {},
     "output_type": "execute_result"
    }
   ],
   "source": [
    "all_genres.str.contains(\"hip hop\").sum()"
   ]
  },
  {
   "cell_type": "code",
   "execution_count": 56,
   "metadata": {},
   "outputs": [],
   "source": [
    "from sklearn.utils import shuffle"
   ]
  },
  {
   "cell_type": "code",
   "execution_count": 60,
   "metadata": {},
   "outputs": [
    {
     "data": {
      "text/plain": [
       "Index(['000RW47rhEkSqjgTrZx7YX', '000xQL6tZNLJzIrtIgxqSl',\n",
       "       '000xYdQfIZ4pDmBGzQalKU', '001b8t3bYPfnabpjpfG1Y4',\n",
       "       '003VDDA7J3Xb2ZFlNx7nIZ', '003eoIwxETJujVWmNFMoZy',\n",
       "       '003vvx7Niy0yvhvHt4a68B', '004zGvrc84enQHFitC6auy',\n",
       "       '006LuHbY5Tt9dhbdSOnVq6', '006Q8ORZ9zPjf3IiO5evwX',\n",
       "       ...\n",
       "       '7zvGNZu33bC4jZEkXHdDZ6', '7zvwxSE35TwHoXiolyjRDX',\n",
       "       '7zwO9KmNWzxKJj3wBdUXL5', '7zx1i0jGcFwMBurajgKlO7',\n",
       "       '7zxRMhXxJMQCeDDg0rKAVo', '7zxphfIdUMOfZOAVpKFlld',\n",
       "       '7zyYmIdjqqiX6kLryb7QBx', '7zyZ9yPXIQebb79PrMghpV',\n",
       "       '7zyofXGhXgaqT8fhvLufdf', '7zzhknA0A39TH81meuX7WA'],\n",
       "      dtype='object', name='id', length=33881)"
      ]
     },
     "execution_count": 60,
     "metadata": {},
     "output_type": "execute_result"
    }
   ],
   "source": [
    "tracks.index"
   ]
  },
  {
   "cell_type": "code",
   "execution_count": 64,
   "metadata": {},
   "outputs": [],
   "source": [
    "random_track_ids = shuffle(tracks.index, random_state=2022)"
   ]
  },
  {
   "cell_type": "code",
   "execution_count": 65,
   "metadata": {},
   "outputs": [
    {
     "data": {
      "text/plain": [
       "(33881,)"
      ]
     },
     "execution_count": 65,
     "metadata": {},
     "output_type": "execute_result"
    }
   ],
   "source": [
    "random_track_ids.shape"
   ]
  },
  {
   "cell_type": "code",
   "execution_count": 76,
   "metadata": {},
   "outputs": [],
   "source": [
    "chunks = np.array_split(random_track_ids, 12)\n",
    "assert all(chunk.shape[0] < 3000 for chunk in chunks)"
   ]
  },
  {
   "cell_type": "code",
   "execution_count": 77,
   "metadata": {},
   "outputs": [],
   "source": [
    "import spotipy\n",
    "from spotipy.oauth2 import SpotifyOAuth"
   ]
  },
  {
   "cell_type": "code",
   "execution_count": 78,
   "metadata": {},
   "outputs": [],
   "source": [
    "scope = \"playlist-modify-public\"\n",
    "sp = spotipy.Spotify(auth_manager=SpotifyOAuth(scope=scope))"
   ]
  },
  {
   "cell_type": "code",
   "execution_count": 80,
   "metadata": {},
   "outputs": [
    {
     "data": {
      "text/plain": [
       "'1147611886'"
      ]
     },
     "execution_count": 80,
     "metadata": {},
     "output_type": "execute_result"
    }
   ],
   "source": [
    "user_id = sp.current_user()[\"id\"]\n",
    "user_id"
   ]
  },
  {
   "cell_type": "code",
   "execution_count": 104,
   "metadata": {},
   "outputs": [],
   "source": [
    "# playlist_ids = []\n",
    "\n",
    "# for i, chunk in enumerate(chunks, 1):\n",
    "#   resp = sp.user_playlist_create(user=user_id, name=f\"Top 50 (2015-2021) chunk {i} of {len(chunks)}\", public=True)\n",
    "#   playlist_id = resp[\"id\"]\n",
    "#   playlist_ids.append(playlist_id)\n",
    "#   chunk_chunks = np.array_split(chunk, ceil(chunk.shape[0] / 100))\n",
    "#   assert all(chunk.shape[0] < 100 for chunk in chunk_chunks)\n",
    "#   for chunk_chunk in chunk_chunks:\n",
    "#     sp.user_playlist_add_tracks(user_id, playlist_id=playlist_id, tracks=chunk_chunk)\n",
    "\n"
   ]
  },
  {
   "cell_type": "code",
   "execution_count": 107,
   "metadata": {},
   "outputs": [],
   "source": [
    "#from helpers import create_data_out_path\n",
    "#pd.Series(playlist_ids).rename(\"playlist_id\").to_csv(create_data_out_path(\"chart_chunk_playlist_ids.csv\"), index=False)"
   ]
  },
  {
   "cell_type": "code",
   "execution_count": 118,
   "metadata": {},
   "outputs": [
    {
     "data": {
      "text/plain": [
       "['178jsHpLBp7en6E9h8fu7L',\n",
       " '7j0qOvtvMDqsKu0F0eliyU',\n",
       " '6MIhmy9aCmpyuBhLkL0R2l',\n",
       " '5p76Fg6wMFbStzGvtc1n5w',\n",
       " '3nurowkPh38EDAtRguFfGq',\n",
       " '5pagben89AfqDe0jPsRQpp',\n",
       " '3IEe7pD2NAQpIbYqlSviSu',\n",
       " '4A65HiPqnAWnrZVj6dN1rM',\n",
       " '6SKNOnXYWSt1tR5jG9BtQN',\n",
       " '6SFMiNXIlCKGS9pKwhCrGb',\n",
       " '1gsuzPEE2XIeySoVhtX55E',\n",
       " '34a92pc9BokNtXu9kXDm8I']"
      ]
     },
     "execution_count": 118,
     "metadata": {},
     "output_type": "execute_result"
    }
   ],
   "source": [
    "with open(get_data_path(\"chart_chunk_playlist_ids.csv\")) as f:\n",
    "    playlist_ids = [line.strip() for line in f.readlines()[1:]]\n",
    "\n",
    "playlist_ids"
   ]
  },
  {
   "cell_type": "code",
   "execution_count": 119,
   "metadata": {},
   "outputs": [],
   "source": [
    "def create_playlist_link(playlist_id):\n",
    "    return f\"https://open.spotify.com/playlist/{playlist_id}\"\n",
    "\n",
    "playlist_links = [create_playlist_link(playlist_id) for playlist_id in playlist_ids]"
   ]
  },
  {
   "cell_type": "code",
   "execution_count": 120,
   "metadata": {},
   "outputs": [
    {
     "data": {
      "text/plain": [
       "['https://open.spotify.com/playlist/178jsHpLBp7en6E9h8fu7L',\n",
       " 'https://open.spotify.com/playlist/7j0qOvtvMDqsKu0F0eliyU',\n",
       " 'https://open.spotify.com/playlist/6MIhmy9aCmpyuBhLkL0R2l',\n",
       " 'https://open.spotify.com/playlist/5p76Fg6wMFbStzGvtc1n5w',\n",
       " 'https://open.spotify.com/playlist/3nurowkPh38EDAtRguFfGq',\n",
       " 'https://open.spotify.com/playlist/5pagben89AfqDe0jPsRQpp',\n",
       " 'https://open.spotify.com/playlist/3IEe7pD2NAQpIbYqlSviSu',\n",
       " 'https://open.spotify.com/playlist/4A65HiPqnAWnrZVj6dN1rM',\n",
       " 'https://open.spotify.com/playlist/6SKNOnXYWSt1tR5jG9BtQN',\n",
       " 'https://open.spotify.com/playlist/6SFMiNXIlCKGS9pKwhCrGb',\n",
       " 'https://open.spotify.com/playlist/1gsuzPEE2XIeySoVhtX55E',\n",
       " 'https://open.spotify.com/playlist/34a92pc9BokNtXu9kXDm8I']"
      ]
     },
     "execution_count": 120,
     "metadata": {},
     "output_type": "execute_result"
    }
   ],
   "source": [
    "playlist_links"
   ]
  },
  {
   "cell_type": "code",
   "execution_count": null,
   "metadata": {},
   "outputs": [],
   "source": []
  }
 ],
 "metadata": {
  "kernelspec": {
   "display_name": "sejmouvisds",
   "language": "python",
   "name": "python3"
  },
  "language_info": {
   "codemirror_mode": {
    "name": "ipython",
    "version": 3
   },
   "file_extension": ".py",
   "mimetype": "text/x-python",
   "name": "python",
   "nbconvert_exporter": "python",
   "pygments_lexer": "ipython3",
   "version": "3.10.4 (main, Mar 31 2022, 08:41:55) [GCC 7.5.0]"
  },
  "orig_nbformat": 4,
  "vscode": {
   "interpreter": {
    "hash": "8513d7823e541875ad872d8139478b18b6793d7fc44af64226c569f61ae21736"
   }
  }
 },
 "nbformat": 4,
 "nbformat_minor": 2
}
