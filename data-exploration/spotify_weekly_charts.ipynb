{
 "cells": [
  {
   "cell_type": "markdown",
   "metadata": {},
   "source": [
    "# Analyzing Spotify weekly top 200 data"
   ]
  },
  {
   "cell_type": "markdown",
   "metadata": {},
   "source": [
    "Spotify has become one of the big players in the global music market over the recent years. Because it has hundreds of millions users streaming songs across the globe, its several [music rankings/charts](https://charts.spotify.com/home). The weekly Top 200 most streamed songs are therefore probably also a solid estimate for the popularity of pieces of music. I figured it would be very interesting to look at the changes in the Top 200 charts for several countries."
   ]
  },
  {
   "cell_type": "markdown",
   "metadata": {},
   "source": [
    "After quite some time spent searching, I finally found [this](https://www.kaggle.com/datasets/dhruvildave/spotify-charts) dataset on Kaggle. It contains the Top 200 and Viral 50 weekly charts for several countries across five years, from 2017 up until the end of 2021. I've downloaded and extracted the ZIP archive. Let's look at the data!"
   ]
  },
  {
   "cell_type": "markdown",
   "metadata": {},
   "source": [
    "## Analyzing the data"
   ]
  },
  {
   "cell_type": "code",
   "execution_count": 49,
   "metadata": {},
   "outputs": [],
   "source": [
    "import pandas as pd\n",
    "import matplotlib.pyplot as plt\n",
    "import seaborn as sns"
   ]
  },
  {
   "cell_type": "code",
   "execution_count": 2,
   "metadata": {},
   "outputs": [],
   "source": [
    "from helpers import get_data_path"
   ]
  },
  {
   "cell_type": "markdown",
   "metadata": {},
   "source": [
    "The CSV is **really** big (3.5 GB), so loading it will take quite a while..."
   ]
  },
  {
   "cell_type": "code",
   "execution_count": 3,
   "metadata": {},
   "outputs": [
    {
     "data": {
      "text/html": [
       "<div>\n",
       "<style scoped>\n",
       "    .dataframe tbody tr th:only-of-type {\n",
       "        vertical-align: middle;\n",
       "    }\n",
       "\n",
       "    .dataframe tbody tr th {\n",
       "        vertical-align: top;\n",
       "    }\n",
       "\n",
       "    .dataframe thead th {\n",
       "        text-align: right;\n",
       "    }\n",
       "</style>\n",
       "<table border=\"1\" class=\"dataframe\">\n",
       "  <thead>\n",
       "    <tr style=\"text-align: right;\">\n",
       "      <th></th>\n",
       "      <th>title</th>\n",
       "      <th>rank</th>\n",
       "      <th>date</th>\n",
       "      <th>artist</th>\n",
       "      <th>url</th>\n",
       "      <th>region</th>\n",
       "      <th>chart</th>\n",
       "      <th>trend</th>\n",
       "      <th>streams</th>\n",
       "    </tr>\n",
       "  </thead>\n",
       "  <tbody>\n",
       "    <tr>\n",
       "      <th>0</th>\n",
       "      <td>Chantaje (feat. Maluma)</td>\n",
       "      <td>1</td>\n",
       "      <td>2017-01-01</td>\n",
       "      <td>Shakira</td>\n",
       "      <td>https://open.spotify.com/track/6mICuAdrwEjh6Y6...</td>\n",
       "      <td>Argentina</td>\n",
       "      <td>top200</td>\n",
       "      <td>SAME_POSITION</td>\n",
       "      <td>253019.0</td>\n",
       "    </tr>\n",
       "    <tr>\n",
       "      <th>1</th>\n",
       "      <td>Vente Pa' Ca (feat. Maluma)</td>\n",
       "      <td>2</td>\n",
       "      <td>2017-01-01</td>\n",
       "      <td>Ricky Martin</td>\n",
       "      <td>https://open.spotify.com/track/7DM4BPaS7uofFul...</td>\n",
       "      <td>Argentina</td>\n",
       "      <td>top200</td>\n",
       "      <td>MOVE_UP</td>\n",
       "      <td>223988.0</td>\n",
       "    </tr>\n",
       "    <tr>\n",
       "      <th>2</th>\n",
       "      <td>Reggaetón Lento (Bailemos)</td>\n",
       "      <td>3</td>\n",
       "      <td>2017-01-01</td>\n",
       "      <td>CNCO</td>\n",
       "      <td>https://open.spotify.com/track/3AEZUABDXNtecAO...</td>\n",
       "      <td>Argentina</td>\n",
       "      <td>top200</td>\n",
       "      <td>MOVE_DOWN</td>\n",
       "      <td>210943.0</td>\n",
       "    </tr>\n",
       "    <tr>\n",
       "      <th>3</th>\n",
       "      <td>Safari</td>\n",
       "      <td>4</td>\n",
       "      <td>2017-01-01</td>\n",
       "      <td>J Balvin, Pharrell Williams, BIA, Sky</td>\n",
       "      <td>https://open.spotify.com/track/6rQSrBHf7HlZjtc...</td>\n",
       "      <td>Argentina</td>\n",
       "      <td>top200</td>\n",
       "      <td>SAME_POSITION</td>\n",
       "      <td>173865.0</td>\n",
       "    </tr>\n",
       "    <tr>\n",
       "      <th>4</th>\n",
       "      <td>Shaky Shaky</td>\n",
       "      <td>5</td>\n",
       "      <td>2017-01-01</td>\n",
       "      <td>Daddy Yankee</td>\n",
       "      <td>https://open.spotify.com/track/58IL315gMSTD37D...</td>\n",
       "      <td>Argentina</td>\n",
       "      <td>top200</td>\n",
       "      <td>MOVE_UP</td>\n",
       "      <td>153956.0</td>\n",
       "    </tr>\n",
       "    <tr>\n",
       "      <th>...</th>\n",
       "      <td>...</td>\n",
       "      <td>...</td>\n",
       "      <td>...</td>\n",
       "      <td>...</td>\n",
       "      <td>...</td>\n",
       "      <td>...</td>\n",
       "      <td>...</td>\n",
       "      <td>...</td>\n",
       "      <td>...</td>\n",
       "    </tr>\n",
       "    <tr>\n",
       "      <th>26173509</th>\n",
       "      <td>BYE</td>\n",
       "      <td>46</td>\n",
       "      <td>2021-07-31</td>\n",
       "      <td>Jaden</td>\n",
       "      <td>https://open.spotify.com/track/3OUyyDN7EZrL7i0...</td>\n",
       "      <td>Vietnam</td>\n",
       "      <td>viral50</td>\n",
       "      <td>MOVE_UP</td>\n",
       "      <td>NaN</td>\n",
       "    </tr>\n",
       "    <tr>\n",
       "      <th>26173510</th>\n",
       "      <td>Pillars</td>\n",
       "      <td>47</td>\n",
       "      <td>2021-07-31</td>\n",
       "      <td>My Anh</td>\n",
       "      <td>https://open.spotify.com/track/6eky30oFiQbHUAT...</td>\n",
       "      <td>Vietnam</td>\n",
       "      <td>viral50</td>\n",
       "      <td>NEW_ENTRY</td>\n",
       "      <td>NaN</td>\n",
       "    </tr>\n",
       "    <tr>\n",
       "      <th>26173511</th>\n",
       "      <td>Gái Độc Thân</td>\n",
       "      <td>48</td>\n",
       "      <td>2021-07-31</td>\n",
       "      <td>Tlinh</td>\n",
       "      <td>https://open.spotify.com/track/2klsSb2iTfgDh95...</td>\n",
       "      <td>Vietnam</td>\n",
       "      <td>viral50</td>\n",
       "      <td>MOVE_DOWN</td>\n",
       "      <td>NaN</td>\n",
       "    </tr>\n",
       "    <tr>\n",
       "      <th>26173512</th>\n",
       "      <td>Renegade (feat. Taylor Swift)</td>\n",
       "      <td>49</td>\n",
       "      <td>2021-07-31</td>\n",
       "      <td>Big Red Machine</td>\n",
       "      <td>https://open.spotify.com/track/1aU1wpYBSpP0M6I...</td>\n",
       "      <td>Vietnam</td>\n",
       "      <td>viral50</td>\n",
       "      <td>MOVE_DOWN</td>\n",
       "      <td>NaN</td>\n",
       "    </tr>\n",
       "    <tr>\n",
       "      <th>26173513</th>\n",
       "      <td>Letter to Jarad</td>\n",
       "      <td>50</td>\n",
       "      <td>2021-07-31</td>\n",
       "      <td>LRN Slime, Shiloh Dynasty</td>\n",
       "      <td>https://open.spotify.com/track/508QhA2SncMbh5C...</td>\n",
       "      <td>Vietnam</td>\n",
       "      <td>viral50</td>\n",
       "      <td>MOVE_DOWN</td>\n",
       "      <td>NaN</td>\n",
       "    </tr>\n",
       "  </tbody>\n",
       "</table>\n",
       "<p>26173514 rows × 9 columns</p>\n",
       "</div>"
      ],
      "text/plain": [
       "                                  title  rank       date  \\\n",
       "0               Chantaje (feat. Maluma)     1 2017-01-01   \n",
       "1           Vente Pa' Ca (feat. Maluma)     2 2017-01-01   \n",
       "2            Reggaetón Lento (Bailemos)     3 2017-01-01   \n",
       "3                                Safari     4 2017-01-01   \n",
       "4                           Shaky Shaky     5 2017-01-01   \n",
       "...                                 ...   ...        ...   \n",
       "26173509                            BYE    46 2021-07-31   \n",
       "26173510                        Pillars    47 2021-07-31   \n",
       "26173511                   Gái Độc Thân    48 2021-07-31   \n",
       "26173512  Renegade (feat. Taylor Swift)    49 2021-07-31   \n",
       "26173513                Letter to Jarad    50 2021-07-31   \n",
       "\n",
       "                                         artist  \\\n",
       "0                                       Shakira   \n",
       "1                                  Ricky Martin   \n",
       "2                                          CNCO   \n",
       "3         J Balvin, Pharrell Williams, BIA, Sky   \n",
       "4                                  Daddy Yankee   \n",
       "...                                         ...   \n",
       "26173509                                  Jaden   \n",
       "26173510                                 My Anh   \n",
       "26173511                                  Tlinh   \n",
       "26173512                        Big Red Machine   \n",
       "26173513              LRN Slime, Shiloh Dynasty   \n",
       "\n",
       "                                                        url     region  \\\n",
       "0         https://open.spotify.com/track/6mICuAdrwEjh6Y6...  Argentina   \n",
       "1         https://open.spotify.com/track/7DM4BPaS7uofFul...  Argentina   \n",
       "2         https://open.spotify.com/track/3AEZUABDXNtecAO...  Argentina   \n",
       "3         https://open.spotify.com/track/6rQSrBHf7HlZjtc...  Argentina   \n",
       "4         https://open.spotify.com/track/58IL315gMSTD37D...  Argentina   \n",
       "...                                                     ...        ...   \n",
       "26173509  https://open.spotify.com/track/3OUyyDN7EZrL7i0...    Vietnam   \n",
       "26173510  https://open.spotify.com/track/6eky30oFiQbHUAT...    Vietnam   \n",
       "26173511  https://open.spotify.com/track/2klsSb2iTfgDh95...    Vietnam   \n",
       "26173512  https://open.spotify.com/track/1aU1wpYBSpP0M6I...    Vietnam   \n",
       "26173513  https://open.spotify.com/track/508QhA2SncMbh5C...    Vietnam   \n",
       "\n",
       "            chart          trend   streams  \n",
       "0          top200  SAME_POSITION  253019.0  \n",
       "1          top200        MOVE_UP  223988.0  \n",
       "2          top200      MOVE_DOWN  210943.0  \n",
       "3          top200  SAME_POSITION  173865.0  \n",
       "4          top200        MOVE_UP  153956.0  \n",
       "...           ...            ...       ...  \n",
       "26173509  viral50        MOVE_UP       NaN  \n",
       "26173510  viral50      NEW_ENTRY       NaN  \n",
       "26173511  viral50      MOVE_DOWN       NaN  \n",
       "26173512  viral50      MOVE_DOWN       NaN  \n",
       "26173513  viral50      MOVE_DOWN       NaN  \n",
       "\n",
       "[26173514 rows x 9 columns]"
      ]
     },
     "execution_count": 3,
     "metadata": {},
     "output_type": "execute_result"
    }
   ],
   "source": [
    "charts = pd.read_csv(\n",
    "    get_data_path(\"charts.csv\"),\n",
    "    dtype={\n",
    "        \"title\": \"category\",\n",
    "        \"artist\": \"category\",\n",
    "        \"url\": \"category\",\n",
    "        \"region\": \"category\",\n",
    "        \"chart\": \"category\",\n",
    "        \"trend\": \"category\",\n",
    "    },\n",
    "    parse_dates=[\"date\"]\n",
    ")\n",
    "charts"
   ]
  },
  {
   "cell_type": "markdown",
   "metadata": {},
   "source": [
    "This is really is a huge dataset, with around 26 mio. rows! It is very nice that we really have data separated by region."
   ]
  },
  {
   "cell_type": "markdown",
   "metadata": {},
   "source": [
    "### Column value counts"
   ]
  },
  {
   "cell_type": "code",
   "execution_count": 4,
   "metadata": {},
   "outputs": [
    {
     "data": {
      "text/plain": [
       "MOVE_DOWN        11220434\n",
       "MOVE_UP           9801048\n",
       "SAME_POSITION     3298392\n",
       "NEW_ENTRY         1853640\n",
       "Name: trend, dtype: int64"
      ]
     },
     "execution_count": 4,
     "metadata": {},
     "output_type": "execute_result"
    }
   ],
   "source": [
    "charts.trend.value_counts()"
   ]
  },
  {
   "cell_type": "code",
   "execution_count": 5,
   "metadata": {},
   "outputs": [
    {
     "data": {
      "text/plain": [
       "top200     20321904\n",
       "viral50     5851610\n",
       "Name: chart, dtype: int64"
      ]
     },
     "execution_count": 5,
     "metadata": {},
     "output_type": "execute_result"
    }
   ],
   "source": [
    "charts.chart.value_counts()"
   ]
  },
  {
   "cell_type": "code",
   "execution_count": 6,
   "metadata": {},
   "outputs": [
    {
     "data": {
      "text/plain": [
       "Argentina        455308\n",
       "United States    455057\n",
       "Austria          454593\n",
       "Brazil           454439\n",
       "Australia        453103\n",
       "                  ...  \n",
       "Ukraine          127544\n",
       "Russia           126837\n",
       "Luxembourg        98053\n",
       "Andorra           79592\n",
       "South Korea       76276\n",
       "Name: region, Length: 70, dtype: int64"
      ]
     },
     "execution_count": 6,
     "metadata": {},
     "output_type": "execute_result"
    }
   ],
   "source": [
    "charts.region.value_counts()"
   ]
  },
  {
   "cell_type": "code",
   "execution_count": 7,
   "metadata": {},
   "outputs": [
    {
     "data": {
      "text/plain": [
       "217704"
      ]
     },
     "execution_count": 7,
     "metadata": {},
     "output_type": "execute_result"
    }
   ],
   "source": [
    "charts.url.nunique()"
   ]
  },
  {
   "cell_type": "code",
   "execution_count": 8,
   "metadata": {},
   "outputs": [
    {
     "data": {
      "text/plain": [
       "96156"
      ]
     },
     "execution_count": 8,
     "metadata": {},
     "output_type": "execute_result"
    }
   ],
   "source": [
    "charts.artist.nunique()"
   ]
  },
  {
   "cell_type": "markdown",
   "metadata": {},
   "source": [
    "Those numbers are quite surprising: more than 96k artists and 217k songs? Personally, I wouldn't have expected that much variety."
   ]
  },
  {
   "cell_type": "markdown",
   "metadata": {},
   "source": [
    "### Extracting Top 200 data"
   ]
  },
  {
   "cell_type": "markdown",
   "metadata": {},
   "source": [
    "The viral Top 50 aren't of much interest, as they are apparently [curated](https://community.spotify.com/t5/Your-Library/What-s-the-difference-between-daily-top-50-and-viral-top-50/td-p/4973312) and not purely based on numbers of streams. In general, the provenance of the Viral Top 50 data seems to not be explained in detail at all by Spotify. So, we'll stick to the Top 200, which are based on pure numbers of streams."
   ]
  },
  {
   "cell_type": "code",
   "execution_count": 9,
   "metadata": {},
   "outputs": [
    {
     "data": {
      "text/html": [
       "<div>\n",
       "<style scoped>\n",
       "    .dataframe tbody tr th:only-of-type {\n",
       "        vertical-align: middle;\n",
       "    }\n",
       "\n",
       "    .dataframe tbody tr th {\n",
       "        vertical-align: top;\n",
       "    }\n",
       "\n",
       "    .dataframe thead th {\n",
       "        text-align: right;\n",
       "    }\n",
       "</style>\n",
       "<table border=\"1\" class=\"dataframe\">\n",
       "  <thead>\n",
       "    <tr style=\"text-align: right;\">\n",
       "      <th></th>\n",
       "      <th>title</th>\n",
       "      <th>rank</th>\n",
       "      <th>date</th>\n",
       "      <th>artist</th>\n",
       "      <th>url</th>\n",
       "      <th>region</th>\n",
       "      <th>trend</th>\n",
       "      <th>streams</th>\n",
       "    </tr>\n",
       "  </thead>\n",
       "  <tbody>\n",
       "    <tr>\n",
       "      <th>0</th>\n",
       "      <td>Chantaje (feat. Maluma)</td>\n",
       "      <td>1</td>\n",
       "      <td>2017-01-01</td>\n",
       "      <td>Shakira</td>\n",
       "      <td>https://open.spotify.com/track/6mICuAdrwEjh6Y6...</td>\n",
       "      <td>Argentina</td>\n",
       "      <td>SAME_POSITION</td>\n",
       "      <td>253019.0</td>\n",
       "    </tr>\n",
       "    <tr>\n",
       "      <th>1</th>\n",
       "      <td>Vente Pa' Ca (feat. Maluma)</td>\n",
       "      <td>2</td>\n",
       "      <td>2017-01-01</td>\n",
       "      <td>Ricky Martin</td>\n",
       "      <td>https://open.spotify.com/track/7DM4BPaS7uofFul...</td>\n",
       "      <td>Argentina</td>\n",
       "      <td>MOVE_UP</td>\n",
       "      <td>223988.0</td>\n",
       "    </tr>\n",
       "    <tr>\n",
       "      <th>2</th>\n",
       "      <td>Reggaetón Lento (Bailemos)</td>\n",
       "      <td>3</td>\n",
       "      <td>2017-01-01</td>\n",
       "      <td>CNCO</td>\n",
       "      <td>https://open.spotify.com/track/3AEZUABDXNtecAO...</td>\n",
       "      <td>Argentina</td>\n",
       "      <td>MOVE_DOWN</td>\n",
       "      <td>210943.0</td>\n",
       "    </tr>\n",
       "    <tr>\n",
       "      <th>3</th>\n",
       "      <td>Safari</td>\n",
       "      <td>4</td>\n",
       "      <td>2017-01-01</td>\n",
       "      <td>J Balvin, Pharrell Williams, BIA, Sky</td>\n",
       "      <td>https://open.spotify.com/track/6rQSrBHf7HlZjtc...</td>\n",
       "      <td>Argentina</td>\n",
       "      <td>SAME_POSITION</td>\n",
       "      <td>173865.0</td>\n",
       "    </tr>\n",
       "    <tr>\n",
       "      <th>4</th>\n",
       "      <td>Shaky Shaky</td>\n",
       "      <td>5</td>\n",
       "      <td>2017-01-01</td>\n",
       "      <td>Daddy Yankee</td>\n",
       "      <td>https://open.spotify.com/track/58IL315gMSTD37D...</td>\n",
       "      <td>Argentina</td>\n",
       "      <td>MOVE_UP</td>\n",
       "      <td>153956.0</td>\n",
       "    </tr>\n",
       "    <tr>\n",
       "      <th>...</th>\n",
       "      <td>...</td>\n",
       "      <td>...</td>\n",
       "      <td>...</td>\n",
       "      <td>...</td>\n",
       "      <td>...</td>\n",
       "      <td>...</td>\n",
       "      <td>...</td>\n",
       "      <td>...</td>\n",
       "    </tr>\n",
       "    <tr>\n",
       "      <th>25276069</th>\n",
       "      <td>Ojalá (feat. Darell)</td>\n",
       "      <td>196</td>\n",
       "      <td>2018-01-31</td>\n",
       "      <td>De La Ghetto, Almighty, Bryant Myers</td>\n",
       "      <td>https://open.spotify.com/track/3EMDvnVpQd9RZJv...</td>\n",
       "      <td>Uruguay</td>\n",
       "      <td>MOVE_DOWN</td>\n",
       "      <td>1178.0</td>\n",
       "    </tr>\n",
       "    <tr>\n",
       "      <th>25276070</th>\n",
       "      <td>Lo Que Pasa en la Noche</td>\n",
       "      <td>197</td>\n",
       "      <td>2018-01-31</td>\n",
       "      <td>Mano Arriba</td>\n",
       "      <td>https://open.spotify.com/track/2eOleVJlGvBE027...</td>\n",
       "      <td>Uruguay</td>\n",
       "      <td>NEW_ENTRY</td>\n",
       "      <td>1178.0</td>\n",
       "    </tr>\n",
       "    <tr>\n",
       "      <th>25276071</th>\n",
       "      <td>El Equivocado</td>\n",
       "      <td>198</td>\n",
       "      <td>2018-01-31</td>\n",
       "      <td>Mano Arriba</td>\n",
       "      <td>https://open.spotify.com/track/5vy1C7DD9xJ5fRB...</td>\n",
       "      <td>Uruguay</td>\n",
       "      <td>MOVE_DOWN</td>\n",
       "      <td>1170.0</td>\n",
       "    </tr>\n",
       "    <tr>\n",
       "      <th>25276072</th>\n",
       "      <td>Que Fui Tu Amante</td>\n",
       "      <td>199</td>\n",
       "      <td>2018-01-31</td>\n",
       "      <td>El Gucci y Su Banda</td>\n",
       "      <td>https://open.spotify.com/track/1fmiCxwEbZFIszI...</td>\n",
       "      <td>Uruguay</td>\n",
       "      <td>MOVE_DOWN</td>\n",
       "      <td>1165.0</td>\n",
       "    </tr>\n",
       "    <tr>\n",
       "      <th>25276073</th>\n",
       "      <td>Solo</td>\n",
       "      <td>200</td>\n",
       "      <td>2018-01-31</td>\n",
       "      <td>Amenazzy, Lary Over</td>\n",
       "      <td>https://open.spotify.com/track/2rrJfOphzn4uQCK...</td>\n",
       "      <td>Uruguay</td>\n",
       "      <td>NEW_ENTRY</td>\n",
       "      <td>1162.0</td>\n",
       "    </tr>\n",
       "  </tbody>\n",
       "</table>\n",
       "<p>20321904 rows × 8 columns</p>\n",
       "</div>"
      ],
      "text/plain": [
       "                                title  rank       date  \\\n",
       "0             Chantaje (feat. Maluma)     1 2017-01-01   \n",
       "1         Vente Pa' Ca (feat. Maluma)     2 2017-01-01   \n",
       "2          Reggaetón Lento (Bailemos)     3 2017-01-01   \n",
       "3                              Safari     4 2017-01-01   \n",
       "4                         Shaky Shaky     5 2017-01-01   \n",
       "...                               ...   ...        ...   \n",
       "25276069         Ojalá (feat. Darell)   196 2018-01-31   \n",
       "25276070      Lo Que Pasa en la Noche   197 2018-01-31   \n",
       "25276071                El Equivocado   198 2018-01-31   \n",
       "25276072            Que Fui Tu Amante   199 2018-01-31   \n",
       "25276073                         Solo   200 2018-01-31   \n",
       "\n",
       "                                         artist  \\\n",
       "0                                       Shakira   \n",
       "1                                  Ricky Martin   \n",
       "2                                          CNCO   \n",
       "3         J Balvin, Pharrell Williams, BIA, Sky   \n",
       "4                                  Daddy Yankee   \n",
       "...                                         ...   \n",
       "25276069   De La Ghetto, Almighty, Bryant Myers   \n",
       "25276070                            Mano Arriba   \n",
       "25276071                            Mano Arriba   \n",
       "25276072                    El Gucci y Su Banda   \n",
       "25276073                    Amenazzy, Lary Over   \n",
       "\n",
       "                                                        url     region  \\\n",
       "0         https://open.spotify.com/track/6mICuAdrwEjh6Y6...  Argentina   \n",
       "1         https://open.spotify.com/track/7DM4BPaS7uofFul...  Argentina   \n",
       "2         https://open.spotify.com/track/3AEZUABDXNtecAO...  Argentina   \n",
       "3         https://open.spotify.com/track/6rQSrBHf7HlZjtc...  Argentina   \n",
       "4         https://open.spotify.com/track/58IL315gMSTD37D...  Argentina   \n",
       "...                                                     ...        ...   \n",
       "25276069  https://open.spotify.com/track/3EMDvnVpQd9RZJv...    Uruguay   \n",
       "25276070  https://open.spotify.com/track/2eOleVJlGvBE027...    Uruguay   \n",
       "25276071  https://open.spotify.com/track/5vy1C7DD9xJ5fRB...    Uruguay   \n",
       "25276072  https://open.spotify.com/track/1fmiCxwEbZFIszI...    Uruguay   \n",
       "25276073  https://open.spotify.com/track/2rrJfOphzn4uQCK...    Uruguay   \n",
       "\n",
       "                  trend   streams  \n",
       "0         SAME_POSITION  253019.0  \n",
       "1               MOVE_UP  223988.0  \n",
       "2             MOVE_DOWN  210943.0  \n",
       "3         SAME_POSITION  173865.0  \n",
       "4               MOVE_UP  153956.0  \n",
       "...                 ...       ...  \n",
       "25276069      MOVE_DOWN    1178.0  \n",
       "25276070      NEW_ENTRY    1178.0  \n",
       "25276071      MOVE_DOWN    1170.0  \n",
       "25276072      MOVE_DOWN    1165.0  \n",
       "25276073      NEW_ENTRY    1162.0  \n",
       "\n",
       "[20321904 rows x 8 columns]"
      ]
     },
     "execution_count": 9,
     "metadata": {},
     "output_type": "execute_result"
    }
   ],
   "source": [
    "top200 = charts.loc[charts.chart == 'top200'].drop(columns=\"chart\")\n",
    "top200"
   ]
  },
  {
   "cell_type": "markdown",
   "metadata": {},
   "source": [
    "### Verifying completeness of data"
   ]
  },
  {
   "cell_type": "code",
   "execution_count": 10,
   "metadata": {},
   "outputs": [
    {
     "data": {
      "text/plain": [
       "Timestamp('2017-01-01 00:00:00')"
      ]
     },
     "execution_count": 10,
     "metadata": {},
     "output_type": "execute_result"
    }
   ],
   "source": [
    "top200.date.min()"
   ]
  },
  {
   "cell_type": "code",
   "execution_count": 11,
   "metadata": {},
   "outputs": [
    {
     "data": {
      "text/plain": [
       "Timestamp('2021-12-31 00:00:00')"
      ]
     },
     "execution_count": 11,
     "metadata": {},
     "output_type": "execute_result"
    }
   ],
   "source": [
    "top200.date.max()"
   ]
  },
  {
   "cell_type": "markdown",
   "metadata": {},
   "source": [
    "At first glance it looks like we indeed have data for 5 years. But is it really complete for all countries/regions?"
   ]
  },
  {
   "cell_type": "code",
   "execution_count": 12,
   "metadata": {},
   "outputs": [
    {
     "data": {
      "text/plain": [
       "date        region   \n",
       "2017-01-01  Argentina    200\n",
       "            Ecuador      200\n",
       "            Italy        200\n",
       "            Ireland      200\n",
       "            Indonesia    200\n",
       "                        ... \n",
       "2021-12-31  Iceland        0\n",
       "            Italy          0\n",
       "            Ireland        0\n",
       "            Norway         0\n",
       "            Ukraine        0\n",
       "Length: 127610, dtype: int64"
      ]
     },
     "execution_count": 12,
     "metadata": {},
     "output_type": "execute_result"
    }
   ],
   "source": [
    "top200_rows_per_week_and_region = top200.loc[:,[\"date\",\"region\"]].groupby(\"date\").value_counts()\n",
    "top200_rows_per_week_and_region"
   ]
  },
  {
   "cell_type": "markdown",
   "metadata": {},
   "source": [
    "looks like some data is missing..."
   ]
  },
  {
   "cell_type": "code",
   "execution_count": 13,
   "metadata": {},
   "outputs": [
    {
     "data": {
      "text/html": [
       "<div>\n",
       "<style scoped>\n",
       "    .dataframe tbody tr th:only-of-type {\n",
       "        vertical-align: middle;\n",
       "    }\n",
       "\n",
       "    .dataframe tbody tr th {\n",
       "        vertical-align: top;\n",
       "    }\n",
       "\n",
       "    .dataframe thead th {\n",
       "        text-align: right;\n",
       "    }\n",
       "</style>\n",
       "<table border=\"1\" class=\"dataframe\">\n",
       "  <thead>\n",
       "    <tr style=\"text-align: right;\">\n",
       "      <th></th>\n",
       "      <th>date</th>\n",
       "      <th>region</th>\n",
       "      <th>0</th>\n",
       "    </tr>\n",
       "  </thead>\n",
       "  <tbody>\n",
       "    <tr>\n",
       "      <th>0</th>\n",
       "      <td>2017-01-01</td>\n",
       "      <td>Uruguay</td>\n",
       "      <td>199</td>\n",
       "    </tr>\n",
       "    <tr>\n",
       "      <th>1</th>\n",
       "      <td>2017-01-01</td>\n",
       "      <td>Czech Republic</td>\n",
       "      <td>136</td>\n",
       "    </tr>\n",
       "    <tr>\n",
       "      <th>2</th>\n",
       "      <td>2017-01-01</td>\n",
       "      <td>Guatemala</td>\n",
       "      <td>130</td>\n",
       "    </tr>\n",
       "    <tr>\n",
       "      <th>3</th>\n",
       "      <td>2017-01-01</td>\n",
       "      <td>Dominican Republic</td>\n",
       "      <td>129</td>\n",
       "    </tr>\n",
       "    <tr>\n",
       "      <th>4</th>\n",
       "      <td>2017-01-01</td>\n",
       "      <td>Panama</td>\n",
       "      <td>111</td>\n",
       "    </tr>\n",
       "    <tr>\n",
       "      <th>...</th>\n",
       "      <td>...</td>\n",
       "      <td>...</td>\n",
       "      <td>...</td>\n",
       "    </tr>\n",
       "    <tr>\n",
       "      <th>37172</th>\n",
       "      <td>2021-12-31</td>\n",
       "      <td>Iceland</td>\n",
       "      <td>0</td>\n",
       "    </tr>\n",
       "    <tr>\n",
       "      <th>37173</th>\n",
       "      <td>2021-12-31</td>\n",
       "      <td>Italy</td>\n",
       "      <td>0</td>\n",
       "    </tr>\n",
       "    <tr>\n",
       "      <th>37174</th>\n",
       "      <td>2021-12-31</td>\n",
       "      <td>Ireland</td>\n",
       "      <td>0</td>\n",
       "    </tr>\n",
       "    <tr>\n",
       "      <th>37175</th>\n",
       "      <td>2021-12-31</td>\n",
       "      <td>Norway</td>\n",
       "      <td>0</td>\n",
       "    </tr>\n",
       "    <tr>\n",
       "      <th>37176</th>\n",
       "      <td>2021-12-31</td>\n",
       "      <td>Ukraine</td>\n",
       "      <td>0</td>\n",
       "    </tr>\n",
       "  </tbody>\n",
       "</table>\n",
       "<p>37177 rows × 3 columns</p>\n",
       "</div>"
      ],
      "text/plain": [
       "            date              region    0\n",
       "0     2017-01-01             Uruguay  199\n",
       "1     2017-01-01      Czech Republic  136\n",
       "2     2017-01-01           Guatemala  130\n",
       "3     2017-01-01  Dominican Republic  129\n",
       "4     2017-01-01              Panama  111\n",
       "...          ...                 ...  ...\n",
       "37172 2021-12-31             Iceland    0\n",
       "37173 2021-12-31               Italy    0\n",
       "37174 2021-12-31             Ireland    0\n",
       "37175 2021-12-31              Norway    0\n",
       "37176 2021-12-31             Ukraine    0\n",
       "\n",
       "[37177 rows x 3 columns]"
      ]
     },
     "execution_count": 13,
     "metadata": {},
     "output_type": "execute_result"
    }
   ],
   "source": [
    "top_less_than200 = top200_rows_per_week_and_region.loc[top200_rows_per_week_and_region != 200].reset_index()\n",
    "top_less_than200"
   ]
  },
  {
   "cell_type": "code",
   "execution_count": 14,
   "metadata": {},
   "outputs": [
    {
     "data": {
      "text/plain": [
       "['Uruguay', 'Czech Republic', 'Guatemala', 'Dominican Republic', 'Panama', ..., 'Singapore', 'Turkey', 'Taiwan', 'Switzerland', 'Portugal']\n",
       "Length: 70\n",
       "Categories (70, object): ['Andorra', 'Argentina', 'Australia', 'Austria', ..., 'United Arab Emirates', 'Russia', 'South Korea', 'Ukraine']"
      ]
     },
     "execution_count": 14,
     "metadata": {},
     "output_type": "execute_result"
    }
   ],
   "source": [
    "top_less_than200.region.unique()"
   ]
  },
  {
   "cell_type": "markdown",
   "metadata": {},
   "source": [
    "Oh no, does that mean that we don't have 100% complete data for any of the countries?"
   ]
  },
  {
   "cell_type": "code",
   "execution_count": 15,
   "metadata": {},
   "outputs": [
    {
     "data": {
      "text/plain": [
       "['https://open.spotify.com/track/6mICuAdrwEjh6Y..., 'https://open.spotify.com/track/7DM4BPaS7uofFu..., 'https://open.spotify.com/track/3AEZUABDXNtecA..., 'https://open.spotify.com/track/6rQSrBHf7HlZjt..., 'https://open.spotify.com/track/58IL315gMSTD37..., ..., 'https://open.spotify.com/track/2SahFuW1EZN9MX..., 'https://open.spotify.com/track/7E7SO2gZLbJK4C..., 'https://open.spotify.com/track/0UBLhedidy1DjS..., 'https://open.spotify.com/track/0mSYnR1ubvlot6..., 'https://open.spotify.com/track/1AY9xgjHNSn3oP...]\n",
       "Length: 118835\n",
       "Categories (217704, object): ['https://open.spotify.com/track/000xYdQfIZ4pDm..., 'https://open.spotify.com/track/00Hj710RrsLX5s..., 'https://open.spotify.com/track/00ISNjqq27aOPy..., 'https://open.spotify.com/track/00NRTjNn3CZPi2..., ..., 'https://open.spotify.com/track/6m0reQAyu3kr63..., 'https://open.spotify.com/track/7FMqXP0Cywpmcf..., 'https://open.spotify.com/track/7jjyTsvL9gjK64..., 'https://open.spotify.com/track/7mJEkaq5H2EMZs...]"
      ]
     },
     "execution_count": 15,
     "metadata": {},
     "output_type": "execute_result"
    }
   ],
   "source": [
    "top200_tracks = top200.url.unique()\n",
    "top200_tracks"
   ]
  },
  {
   "cell_type": "markdown",
   "metadata": {},
   "source": [
    "In theory, if our data were complete, we would have $\\text{no. of countries} \\cdot \\text{no. of tracks in charts} = 70 \\cdot 200$ rows for each day. Let's check what reality looks like:"
   ]
  },
  {
   "cell_type": "code",
   "execution_count": 25,
   "metadata": {},
   "outputs": [
    {
     "data": {
      "text/plain": [
       "14000"
      ]
     },
     "execution_count": 25,
     "metadata": {},
     "output_type": "execute_result"
    }
   ],
   "source": [
    "ideal_weekly_row_count_top200 = 70 * 200\n",
    "ideal_weekly_row_count_top200"
   ]
  },
  {
   "cell_type": "code",
   "execution_count": 19,
   "metadata": {},
   "outputs": [
    {
     "data": {
      "text/plain": [
       "date\n",
       "2017-01-01    8621\n",
       "2017-01-02    8706\n",
       "2017-01-03    8801\n",
       "2017-01-04    8839\n",
       "2017-01-05    8870\n",
       "              ... \n",
       "2021-12-27    1334\n",
       "2021-12-28    1343\n",
       "2021-12-29    1342\n",
       "2021-12-30    1355\n",
       "2021-12-31    1379\n",
       "Name: date, Length: 1823, dtype: int64"
      ]
     },
     "execution_count": 19,
     "metadata": {},
     "output_type": "execute_result"
    }
   ],
   "source": [
    "top200.groupby(\"date\").date.count()"
   ]
  },
  {
   "cell_type": "markdown",
   "metadata": {},
   "source": [
    "Hmm, that really is a lot of missing data... Let's try to look only at the top 50, maybe that helps..."
   ]
  },
  {
   "cell_type": "code",
   "execution_count": 67,
   "metadata": {},
   "outputs": [
    {
     "data": {
      "text/plain": [
       "1823"
      ]
     },
     "execution_count": 67,
     "metadata": {},
     "output_type": "execute_result"
    }
   ],
   "source": [
    "total_no_of_dates = top200.date.nunique()\n",
    "total_no_of_dates"
   ]
  },
  {
   "cell_type": "code",
   "execution_count": 21,
   "metadata": {},
   "outputs": [
    {
     "data": {
      "text/html": [
       "<div>\n",
       "<style scoped>\n",
       "    .dataframe tbody tr th:only-of-type {\n",
       "        vertical-align: middle;\n",
       "    }\n",
       "\n",
       "    .dataframe tbody tr th {\n",
       "        vertical-align: top;\n",
       "    }\n",
       "\n",
       "    .dataframe thead th {\n",
       "        text-align: right;\n",
       "    }\n",
       "</style>\n",
       "<table border=\"1\" class=\"dataframe\">\n",
       "  <thead>\n",
       "    <tr style=\"text-align: right;\">\n",
       "      <th></th>\n",
       "      <th>title</th>\n",
       "      <th>rank</th>\n",
       "      <th>date</th>\n",
       "      <th>artist</th>\n",
       "      <th>url</th>\n",
       "      <th>region</th>\n",
       "      <th>trend</th>\n",
       "      <th>streams</th>\n",
       "    </tr>\n",
       "  </thead>\n",
       "  <tbody>\n",
       "    <tr>\n",
       "      <th>0</th>\n",
       "      <td>Chantaje (feat. Maluma)</td>\n",
       "      <td>1</td>\n",
       "      <td>2017-01-01</td>\n",
       "      <td>Shakira</td>\n",
       "      <td>https://open.spotify.com/track/6mICuAdrwEjh6Y6...</td>\n",
       "      <td>Argentina</td>\n",
       "      <td>SAME_POSITION</td>\n",
       "      <td>253019.0</td>\n",
       "    </tr>\n",
       "    <tr>\n",
       "      <th>1</th>\n",
       "      <td>Vente Pa' Ca (feat. Maluma)</td>\n",
       "      <td>2</td>\n",
       "      <td>2017-01-01</td>\n",
       "      <td>Ricky Martin</td>\n",
       "      <td>https://open.spotify.com/track/7DM4BPaS7uofFul...</td>\n",
       "      <td>Argentina</td>\n",
       "      <td>MOVE_UP</td>\n",
       "      <td>223988.0</td>\n",
       "    </tr>\n",
       "    <tr>\n",
       "      <th>2</th>\n",
       "      <td>Reggaetón Lento (Bailemos)</td>\n",
       "      <td>3</td>\n",
       "      <td>2017-01-01</td>\n",
       "      <td>CNCO</td>\n",
       "      <td>https://open.spotify.com/track/3AEZUABDXNtecAO...</td>\n",
       "      <td>Argentina</td>\n",
       "      <td>MOVE_DOWN</td>\n",
       "      <td>210943.0</td>\n",
       "    </tr>\n",
       "    <tr>\n",
       "      <th>3</th>\n",
       "      <td>Safari</td>\n",
       "      <td>4</td>\n",
       "      <td>2017-01-01</td>\n",
       "      <td>J Balvin, Pharrell Williams, BIA, Sky</td>\n",
       "      <td>https://open.spotify.com/track/6rQSrBHf7HlZjtc...</td>\n",
       "      <td>Argentina</td>\n",
       "      <td>SAME_POSITION</td>\n",
       "      <td>173865.0</td>\n",
       "    </tr>\n",
       "    <tr>\n",
       "      <th>4</th>\n",
       "      <td>Shaky Shaky</td>\n",
       "      <td>5</td>\n",
       "      <td>2017-01-01</td>\n",
       "      <td>Daddy Yankee</td>\n",
       "      <td>https://open.spotify.com/track/58IL315gMSTD37D...</td>\n",
       "      <td>Argentina</td>\n",
       "      <td>MOVE_UP</td>\n",
       "      <td>153956.0</td>\n",
       "    </tr>\n",
       "    <tr>\n",
       "      <th>...</th>\n",
       "      <td>...</td>\n",
       "      <td>...</td>\n",
       "      <td>...</td>\n",
       "      <td>...</td>\n",
       "      <td>...</td>\n",
       "      <td>...</td>\n",
       "      <td>...</td>\n",
       "      <td>...</td>\n",
       "    </tr>\n",
       "    <tr>\n",
       "      <th>25275919</th>\n",
       "      <td>Explícale (feat. Bad Bunny)</td>\n",
       "      <td>46</td>\n",
       "      <td>2018-01-31</td>\n",
       "      <td>Yandel</td>\n",
       "      <td>https://open.spotify.com/track/1LszjjoVwDDZcWU...</td>\n",
       "      <td>Uruguay</td>\n",
       "      <td>MOVE_DOWN</td>\n",
       "      <td>4560.0</td>\n",
       "    </tr>\n",
       "    <tr>\n",
       "      <th>25275920</th>\n",
       "      <td>Nena Maldicion (feat. Lenny Tavarez)</td>\n",
       "      <td>47</td>\n",
       "      <td>2018-01-31</td>\n",
       "      <td>Paulo Londra, Lenny Tavárez</td>\n",
       "      <td>https://open.spotify.com/track/3TnhQSRwT3AVMdX...</td>\n",
       "      <td>Uruguay</td>\n",
       "      <td>MOVE_UP</td>\n",
       "      <td>4406.0</td>\n",
       "    </tr>\n",
       "    <tr>\n",
       "      <th>25275921</th>\n",
       "      <td>Ahora Dice</td>\n",
       "      <td>48</td>\n",
       "      <td>2018-01-31</td>\n",
       "      <td>Chris Jedi, J Balvin, Ozuna, Arcangel</td>\n",
       "      <td>https://open.spotify.com/track/22eADXu8DfOAUED...</td>\n",
       "      <td>Uruguay</td>\n",
       "      <td>SAME_POSITION</td>\n",
       "      <td>4316.0</td>\n",
       "    </tr>\n",
       "    <tr>\n",
       "      <th>25275922</th>\n",
       "      <td>La fórmula (feat. Chris Jedi)</td>\n",
       "      <td>49</td>\n",
       "      <td>2018-01-31</td>\n",
       "      <td>De La Ghetto, Daddy Yankee, Ozuna</td>\n",
       "      <td>https://open.spotify.com/track/4XCQtUoRSh22Ep1...</td>\n",
       "      <td>Uruguay</td>\n",
       "      <td>SAME_POSITION</td>\n",
       "      <td>4272.0</td>\n",
       "    </tr>\n",
       "    <tr>\n",
       "      <th>25275923</th>\n",
       "      <td>Mi Gente</td>\n",
       "      <td>50</td>\n",
       "      <td>2018-01-31</td>\n",
       "      <td>J Balvin, Willy William</td>\n",
       "      <td>https://open.spotify.com/track/2rb5MvYT7ZIxbKW...</td>\n",
       "      <td>Uruguay</td>\n",
       "      <td>SAME_POSITION</td>\n",
       "      <td>4142.0</td>\n",
       "    </tr>\n",
       "  </tbody>\n",
       "</table>\n",
       "<p>5477668 rows × 8 columns</p>\n",
       "</div>"
      ],
      "text/plain": [
       "                                         title  rank       date  \\\n",
       "0                      Chantaje (feat. Maluma)     1 2017-01-01   \n",
       "1                  Vente Pa' Ca (feat. Maluma)     2 2017-01-01   \n",
       "2                   Reggaetón Lento (Bailemos)     3 2017-01-01   \n",
       "3                                       Safari     4 2017-01-01   \n",
       "4                                  Shaky Shaky     5 2017-01-01   \n",
       "...                                        ...   ...        ...   \n",
       "25275919           Explícale (feat. Bad Bunny)    46 2018-01-31   \n",
       "25275920  Nena Maldicion (feat. Lenny Tavarez)    47 2018-01-31   \n",
       "25275921                            Ahora Dice    48 2018-01-31   \n",
       "25275922         La fórmula (feat. Chris Jedi)    49 2018-01-31   \n",
       "25275923                              Mi Gente    50 2018-01-31   \n",
       "\n",
       "                                         artist  \\\n",
       "0                                       Shakira   \n",
       "1                                  Ricky Martin   \n",
       "2                                          CNCO   \n",
       "3         J Balvin, Pharrell Williams, BIA, Sky   \n",
       "4                                  Daddy Yankee   \n",
       "...                                         ...   \n",
       "25275919                                 Yandel   \n",
       "25275920            Paulo Londra, Lenny Tavárez   \n",
       "25275921  Chris Jedi, J Balvin, Ozuna, Arcangel   \n",
       "25275922      De La Ghetto, Daddy Yankee, Ozuna   \n",
       "25275923                J Balvin, Willy William   \n",
       "\n",
       "                                                        url     region  \\\n",
       "0         https://open.spotify.com/track/6mICuAdrwEjh6Y6...  Argentina   \n",
       "1         https://open.spotify.com/track/7DM4BPaS7uofFul...  Argentina   \n",
       "2         https://open.spotify.com/track/3AEZUABDXNtecAO...  Argentina   \n",
       "3         https://open.spotify.com/track/6rQSrBHf7HlZjtc...  Argentina   \n",
       "4         https://open.spotify.com/track/58IL315gMSTD37D...  Argentina   \n",
       "...                                                     ...        ...   \n",
       "25275919  https://open.spotify.com/track/1LszjjoVwDDZcWU...    Uruguay   \n",
       "25275920  https://open.spotify.com/track/3TnhQSRwT3AVMdX...    Uruguay   \n",
       "25275921  https://open.spotify.com/track/22eADXu8DfOAUED...    Uruguay   \n",
       "25275922  https://open.spotify.com/track/4XCQtUoRSh22Ep1...    Uruguay   \n",
       "25275923  https://open.spotify.com/track/2rb5MvYT7ZIxbKW...    Uruguay   \n",
       "\n",
       "                  trend   streams  \n",
       "0         SAME_POSITION  253019.0  \n",
       "1               MOVE_UP  223988.0  \n",
       "2             MOVE_DOWN  210943.0  \n",
       "3         SAME_POSITION  173865.0  \n",
       "4               MOVE_UP  153956.0  \n",
       "...                 ...       ...  \n",
       "25275919      MOVE_DOWN    4560.0  \n",
       "25275920        MOVE_UP    4406.0  \n",
       "25275921  SAME_POSITION    4316.0  \n",
       "25275922  SAME_POSITION    4272.0  \n",
       "25275923  SAME_POSITION    4142.0  \n",
       "\n",
       "[5477668 rows x 8 columns]"
      ]
     },
     "execution_count": 21,
     "metadata": {},
     "output_type": "execute_result"
    }
   ],
   "source": [
    "top50 = top200.loc[top200[\"rank\"] <= 50]\n",
    "top50"
   ]
  },
  {
   "cell_type": "code",
   "execution_count": 26,
   "metadata": {},
   "outputs": [
    {
     "data": {
      "text/plain": [
       "3500"
      ]
     },
     "execution_count": 26,
     "metadata": {},
     "output_type": "execute_result"
    }
   ],
   "source": [
    "ideal_weekly_row_count_top50 = 70 * 50\n",
    "ideal_weekly_row_count_top50"
   ]
  },
  {
   "cell_type": "code",
   "execution_count": 23,
   "metadata": {},
   "outputs": [
    {
     "data": {
      "text/plain": [
       "date\n",
       "2017-01-01    2532\n",
       "2017-01-02    2623\n",
       "2017-01-03    2666\n",
       "2017-01-04    2647\n",
       "2017-01-05    2639\n",
       "              ... \n",
       "2021-12-27     350\n",
       "2021-12-28     350\n",
       "2021-12-29     350\n",
       "2021-12-30     350\n",
       "2021-12-31     349\n",
       "Name: date, Length: 1823, dtype: int64"
      ]
     },
     "execution_count": 23,
     "metadata": {},
     "output_type": "execute_result"
    }
   ],
   "source": [
    "top50.groupby(\"date\").date.count()"
   ]
  },
  {
   "cell_type": "code",
   "execution_count": 30,
   "metadata": {},
   "outputs": [
    {
     "data": {
      "text/plain": [
       "date\n",
       "2017-01-01    0.615786\n",
       "2017-01-02    0.621857\n",
       "2017-01-03    0.628643\n",
       "2017-01-04    0.631357\n",
       "2017-01-05    0.633571\n",
       "                ...   \n",
       "2021-12-27    0.095286\n",
       "2021-12-28    0.095929\n",
       "2021-12-29    0.095857\n",
       "2021-12-30    0.096786\n",
       "2021-12-31    0.098500\n",
       "Name: date, Length: 1823, dtype: float64"
      ]
     },
     "execution_count": 30,
     "metadata": {},
     "output_type": "execute_result"
    }
   ],
   "source": [
    "data_completeness_top200 = top200.groupby(\"date\").date.count() / ideal_weekly_row_count_top200\n",
    "data_completeness_top200"
   ]
  },
  {
   "cell_type": "code",
   "execution_count": 31,
   "metadata": {},
   "outputs": [
    {
     "data": {
      "text/plain": [
       "<AxesSubplot:xlabel='date'>"
      ]
     },
     "execution_count": 31,
     "metadata": {},
     "output_type": "execute_result"
    },
    {
     "data": {
      "image/png": "[encoded data removed]",
      "text/plain": [
       "<Figure size 640x480 with 1 Axes>"
      ]
     },
     "metadata": {},
     "output_type": "display_data"
    }
   ],
   "source": [
    "data_completeness_top200.plot()"
   ]
  },
  {
   "cell_type": "code",
   "execution_count": 32,
   "metadata": {},
   "outputs": [
    {
     "data": {
      "text/plain": [
       "date\n",
       "2017-01-01    0.723429\n",
       "2017-01-02    0.749429\n",
       "2017-01-03    0.761714\n",
       "2017-01-04    0.756286\n",
       "2017-01-05    0.754000\n",
       "                ...   \n",
       "2021-12-27    0.100000\n",
       "2021-12-28    0.100000\n",
       "2021-12-29    0.100000\n",
       "2021-12-30    0.100000\n",
       "2021-12-31    0.099714\n",
       "Name: date, Length: 1823, dtype: float64"
      ]
     },
     "execution_count": 32,
     "metadata": {},
     "output_type": "execute_result"
    }
   ],
   "source": [
    "data_completeness_top50 = top50.groupby(\"date\").date.count() / ideal_weekly_row_count_top50\n",
    "data_completeness_top50"
   ]
  },
  {
   "cell_type": "code",
   "execution_count": 33,
   "metadata": {},
   "outputs": [
    {
     "data": {
      "text/plain": [
       "<AxesSubplot:xlabel='date'>"
      ]
     },
     "execution_count": 33,
     "metadata": {},
     "output_type": "execute_result"
    },
    {
     "data": {
      "image/png": "[encoded data removed]",
      "text/plain": [
       "<Figure size 640x480 with 1 Axes>"
      ]
     },
     "metadata": {},
     "output_type": "display_data"
    }
   ],
   "source": [
    "data_completeness_top50.plot()"
   ]
  },
  {
   "cell_type": "code",
   "execution_count": 39,
   "metadata": {},
   "outputs": [
    {
     "data": {
      "text/plain": [
       "Timestamp('2020-12-24 00:00:00')"
      ]
     },
     "execution_count": 39,
     "metadata": {},
     "output_type": "execute_result"
    }
   ],
   "source": [
    "data_completeness_top200.idxmax()"
   ]
  },
  {
   "cell_type": "code",
   "execution_count": 42,
   "metadata": {},
   "outputs": [
    {
     "data": {
      "text/html": [
       "<div>\n",
       "<style scoped>\n",
       "    .dataframe tbody tr th:only-of-type {\n",
       "        vertical-align: middle;\n",
       "    }\n",
       "\n",
       "    .dataframe tbody tr th {\n",
       "        vertical-align: top;\n",
       "    }\n",
       "\n",
       "    .dataframe thead th {\n",
       "        text-align: right;\n",
       "    }\n",
       "</style>\n",
       "<table border=\"1\" class=\"dataframe\">\n",
       "  <thead>\n",
       "    <tr style=\"text-align: right;\">\n",
       "      <th></th>\n",
       "      <th></th>\n",
       "      <th>title</th>\n",
       "      <th>rank</th>\n",
       "      <th>artist</th>\n",
       "      <th>url</th>\n",
       "      <th>trend</th>\n",
       "      <th>streams</th>\n",
       "    </tr>\n",
       "    <tr>\n",
       "      <th>date</th>\n",
       "      <th>region</th>\n",
       "      <th></th>\n",
       "      <th></th>\n",
       "      <th></th>\n",
       "      <th></th>\n",
       "      <th></th>\n",
       "      <th></th>\n",
       "    </tr>\n",
       "  </thead>\n",
       "  <tbody>\n",
       "    <tr>\n",
       "      <th rowspan=\"5\" valign=\"top\">2017-01-01</th>\n",
       "      <th>Argentina</th>\n",
       "      <td>Chantaje (feat. Maluma)</td>\n",
       "      <td>1</td>\n",
       "      <td>Shakira</td>\n",
       "      <td>https://open.spotify.com/track/6mICuAdrwEjh6Y6...</td>\n",
       "      <td>SAME_POSITION</td>\n",
       "      <td>253019.0</td>\n",
       "    </tr>\n",
       "    <tr>\n",
       "      <th>Argentina</th>\n",
       "      <td>Vente Pa' Ca (feat. Maluma)</td>\n",
       "      <td>2</td>\n",
       "      <td>Ricky Martin</td>\n",
       "      <td>https://open.spotify.com/track/7DM4BPaS7uofFul...</td>\n",
       "      <td>MOVE_UP</td>\n",
       "      <td>223988.0</td>\n",
       "    </tr>\n",
       "    <tr>\n",
       "      <th>Argentina</th>\n",
       "      <td>Reggaetón Lento (Bailemos)</td>\n",
       "      <td>3</td>\n",
       "      <td>CNCO</td>\n",
       "      <td>https://open.spotify.com/track/3AEZUABDXNtecAO...</td>\n",
       "      <td>MOVE_DOWN</td>\n",
       "      <td>210943.0</td>\n",
       "    </tr>\n",
       "    <tr>\n",
       "      <th>Argentina</th>\n",
       "      <td>Safari</td>\n",
       "      <td>4</td>\n",
       "      <td>J Balvin, Pharrell Williams, BIA, Sky</td>\n",
       "      <td>https://open.spotify.com/track/6rQSrBHf7HlZjtc...</td>\n",
       "      <td>SAME_POSITION</td>\n",
       "      <td>173865.0</td>\n",
       "    </tr>\n",
       "    <tr>\n",
       "      <th>Argentina</th>\n",
       "      <td>Shaky Shaky</td>\n",
       "      <td>5</td>\n",
       "      <td>Daddy Yankee</td>\n",
       "      <td>https://open.spotify.com/track/58IL315gMSTD37D...</td>\n",
       "      <td>MOVE_UP</td>\n",
       "      <td>153956.0</td>\n",
       "    </tr>\n",
       "    <tr>\n",
       "      <th>...</th>\n",
       "      <th>...</th>\n",
       "      <td>...</td>\n",
       "      <td>...</td>\n",
       "      <td>...</td>\n",
       "      <td>...</td>\n",
       "      <td>...</td>\n",
       "      <td>...</td>\n",
       "    </tr>\n",
       "    <tr>\n",
       "      <th rowspan=\"5\" valign=\"top\">2018-01-31</th>\n",
       "      <th>Uruguay</th>\n",
       "      <td>Ojalá (feat. Darell)</td>\n",
       "      <td>196</td>\n",
       "      <td>De La Ghetto, Almighty, Bryant Myers</td>\n",
       "      <td>https://open.spotify.com/track/3EMDvnVpQd9RZJv...</td>\n",
       "      <td>MOVE_DOWN</td>\n",
       "      <td>1178.0</td>\n",
       "    </tr>\n",
       "    <tr>\n",
       "      <th>Uruguay</th>\n",
       "      <td>Lo Que Pasa en la Noche</td>\n",
       "      <td>197</td>\n",
       "      <td>Mano Arriba</td>\n",
       "      <td>https://open.spotify.com/track/2eOleVJlGvBE027...</td>\n",
       "      <td>NEW_ENTRY</td>\n",
       "      <td>1178.0</td>\n",
       "    </tr>\n",
       "    <tr>\n",
       "      <th>Uruguay</th>\n",
       "      <td>El Equivocado</td>\n",
       "      <td>198</td>\n",
       "      <td>Mano Arriba</td>\n",
       "      <td>https://open.spotify.com/track/5vy1C7DD9xJ5fRB...</td>\n",
       "      <td>MOVE_DOWN</td>\n",
       "      <td>1170.0</td>\n",
       "    </tr>\n",
       "    <tr>\n",
       "      <th>Uruguay</th>\n",
       "      <td>Que Fui Tu Amante</td>\n",
       "      <td>199</td>\n",
       "      <td>El Gucci y Su Banda</td>\n",
       "      <td>https://open.spotify.com/track/1fmiCxwEbZFIszI...</td>\n",
       "      <td>MOVE_DOWN</td>\n",
       "      <td>1165.0</td>\n",
       "    </tr>\n",
       "    <tr>\n",
       "      <th>Uruguay</th>\n",
       "      <td>Solo</td>\n",
       "      <td>200</td>\n",
       "      <td>Amenazzy, Lary Over</td>\n",
       "      <td>https://open.spotify.com/track/2rrJfOphzn4uQCK...</td>\n",
       "      <td>NEW_ENTRY</td>\n",
       "      <td>1162.0</td>\n",
       "    </tr>\n",
       "  </tbody>\n",
       "</table>\n",
       "<p>20321904 rows × 6 columns</p>\n",
       "</div>"
      ],
      "text/plain": [
       "                                            title  rank  \\\n",
       "date       region                                         \n",
       "2017-01-01 Argentina      Chantaje (feat. Maluma)     1   \n",
       "           Argentina  Vente Pa' Ca (feat. Maluma)     2   \n",
       "           Argentina   Reggaetón Lento (Bailemos)     3   \n",
       "           Argentina                       Safari     4   \n",
       "           Argentina                  Shaky Shaky     5   \n",
       "...                                           ...   ...   \n",
       "2018-01-31 Uruguay           Ojalá (feat. Darell)   196   \n",
       "           Uruguay        Lo Que Pasa en la Noche   197   \n",
       "           Uruguay                  El Equivocado   198   \n",
       "           Uruguay              Que Fui Tu Amante   199   \n",
       "           Uruguay                           Solo   200   \n",
       "\n",
       "                                                     artist  \\\n",
       "date       region                                             \n",
       "2017-01-01 Argentina                                Shakira   \n",
       "           Argentina                           Ricky Martin   \n",
       "           Argentina                                   CNCO   \n",
       "           Argentina  J Balvin, Pharrell Williams, BIA, Sky   \n",
       "           Argentina                           Daddy Yankee   \n",
       "...                                                     ...   \n",
       "2018-01-31 Uruguay     De La Ghetto, Almighty, Bryant Myers   \n",
       "           Uruguay                              Mano Arriba   \n",
       "           Uruguay                              Mano Arriba   \n",
       "           Uruguay                      El Gucci y Su Banda   \n",
       "           Uruguay                      Amenazzy, Lary Over   \n",
       "\n",
       "                                                                    url  \\\n",
       "date       region                                                         \n",
       "2017-01-01 Argentina  https://open.spotify.com/track/6mICuAdrwEjh6Y6...   \n",
       "           Argentina  https://open.spotify.com/track/7DM4BPaS7uofFul...   \n",
       "           Argentina  https://open.spotify.com/track/3AEZUABDXNtecAO...   \n",
       "           Argentina  https://open.spotify.com/track/6rQSrBHf7HlZjtc...   \n",
       "           Argentina  https://open.spotify.com/track/58IL315gMSTD37D...   \n",
       "...                                                                 ...   \n",
       "2018-01-31 Uruguay    https://open.spotify.com/track/3EMDvnVpQd9RZJv...   \n",
       "           Uruguay    https://open.spotify.com/track/2eOleVJlGvBE027...   \n",
       "           Uruguay    https://open.spotify.com/track/5vy1C7DD9xJ5fRB...   \n",
       "           Uruguay    https://open.spotify.com/track/1fmiCxwEbZFIszI...   \n",
       "           Uruguay    https://open.spotify.com/track/2rrJfOphzn4uQCK...   \n",
       "\n",
       "                              trend   streams  \n",
       "date       region                              \n",
       "2017-01-01 Argentina  SAME_POSITION  253019.0  \n",
       "           Argentina        MOVE_UP  223988.0  \n",
       "           Argentina      MOVE_DOWN  210943.0  \n",
       "           Argentina  SAME_POSITION  173865.0  \n",
       "           Argentina        MOVE_UP  153956.0  \n",
       "...                             ...       ...  \n",
       "2018-01-31 Uruguay        MOVE_DOWN    1178.0  \n",
       "           Uruguay        NEW_ENTRY    1178.0  \n",
       "           Uruguay        MOVE_DOWN    1170.0  \n",
       "           Uruguay        MOVE_DOWN    1165.0  \n",
       "           Uruguay        NEW_ENTRY    1162.0  \n",
       "\n",
       "[20321904 rows x 6 columns]"
      ]
     },
     "execution_count": 42,
     "metadata": {},
     "output_type": "execute_result"
    }
   ],
   "source": [
    "data_completeness_by_region = top200.set_index([\"date\", \"region\"])\n",
    "data_completeness_by_region"
   ]
  },
  {
   "cell_type": "code",
   "execution_count": 57,
   "metadata": {},
   "outputs": [
    {
     "data": {
      "image/png": "[encoded data removed]",
      "text/plain": [
       "<Figure size 1500x600 with 1 Axes>"
      ]
     },
     "metadata": {},
     "output_type": "display_data"
    }
   ],
   "source": [
    "plt.figure(figsize=(15,6))\n",
    "sns.countplot(top200, x=\"region\", order=top200.region.value_counts().index)\n",
    "plt.title(\"number of rows in Top 200 chart data per country\")\n",
    "plt.tick_params(axis='x', rotation=90)\n",
    "plt.show()"
   ]
  },
  {
   "cell_type": "code",
   "execution_count": 66,
   "metadata": {},
   "outputs": [
    {
     "data": {
      "text/plain": [
       "region\n",
       "Andorra                      0\n",
       "Argentina               364385\n",
       "Australia               362189\n",
       "Austria                 363925\n",
       "Belgium                 358390\n",
       "                         ...  \n",
       "South Africa            230207\n",
       "United Arab Emirates    142053\n",
       "Russia                  100768\n",
       "South Korea              59576\n",
       "Ukraine                 100766\n",
       "Name: region, Length: 70, dtype: int64"
      ]
     },
     "execution_count": 66,
     "metadata": {},
     "output_type": "execute_result"
    }
   ],
   "source": [
    "top200_region_counts = top200.groupby(\"region\").region.count()\n",
    "top200_region_counts.max() / top200_"
   ]
  },
  {
   "cell_type": "code",
   "execution_count": 60,
   "metadata": {},
   "outputs": [
    {
     "data": {
      "image/png": "[encoded data removed]",
      "text/plain": [
       "<Figure size 1500x600 with 1 Axes>"
      ]
     },
     "metadata": {},
     "output_type": "display_data"
    }
   ],
   "source": [
    "plt.figure(figsize=(15,6))\n",
    "sns.countplot(top50, x=\"region\", order=top50.region.value_counts().index)\n",
    "plt.title(\"number of rows in Top 50 chart data per country\")\n",
    "plt.tick_params(axis='x', rotation=90)\n",
    "plt.show()"
   ]
  },
  {
   "cell_type": "code",
   "execution_count": null,
   "metadata": {},
   "outputs": [],
   "source": []
  }
 ],
 "metadata": {
  "kernelspec": {
   "display_name": "Python 3.10.6 ('sejmouvisds')",
   "language": "python",
   "name": "python3"
  },
  "language_info": {
   "codemirror_mode": {
    "name": "ipython",
    "version": 3
   },
   "file_extension": ".py",
   "mimetype": "text/x-python",
   "name": "python",
   "nbconvert_exporter": "python",
   "pygments_lexer": "ipython3",
   "version": "3.10.6"
  },
  "orig_nbformat": 4,
  "vscode": {
   "interpreter": {
    "hash": "8513d7823e541875ad872d8139478b18b6793d7fc44af64226c569f61ae21736"
   }
  }
 },
 "nbformat": 4,
 "nbformat_minor": 2
}
