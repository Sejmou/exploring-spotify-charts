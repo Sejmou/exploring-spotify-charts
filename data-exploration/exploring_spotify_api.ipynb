{
 "cells": [
  {
   "cell_type": "markdown",
   "metadata": {},
   "source": [
    "# Exploring the Spotify API"
   ]
  },
  {
   "cell_type": "markdown",
   "metadata": {},
   "source": [
    "We can use the Spotify API to obtain interesting music-related data. We could potentially combine that with other data sources to get a nice dataset to work with for this project."
   ]
  },
  {
   "cell_type": "markdown",
   "metadata": {},
   "source": [
    "To access the API we need to have a Spotify developer account and register a new application to obtain a client ID and secret. For this notebook, we have already done that and added a `.env` file with the following content:\n",
    "```\n",
    "SPOTIPY_CLIENT_ID='our-client-id-would-be-here'\n",
    "SPOTIPY_CLIENT_SECRET='our-client-secret-would-be-here'\n",
    "SPOTIPY_REDIRECT_URI='http://127.0.0.1:9090'\n",
    "```"
   ]
  },
  {
   "cell_type": "markdown",
   "metadata": {},
   "source": [
    "These environment variables will be used by the `spotipy` package, a lightweight python library for getting data from the Spotify API.\n",
    "\n",
    "We also added the redirect URL `http://127.0.0.1:9090` mentioned in the `SPOTIPY_REDIRECT_URI` variable to the application in the Developer Console on the Spotify website. spotipy will \"instantiate a server on the indicated response to receive the access token from the response at the end of the oauth flow\" (as mentioned in the [docs](https://spotipy.readthedocs.io/en/2.21.0/#redirect-uri))"
   ]
  },
  {
   "cell_type": "markdown",
   "metadata": {},
   "source": [
    "To load the environment variables from that file we use `load_dotenv`:"
   ]
  },
  {
   "cell_type": "code",
   "execution_count": 1,
   "metadata": {},
   "outputs": [
    {
     "data": {
      "text/plain": [
       "True"
      ]
     },
     "execution_count": 1,
     "metadata": {},
     "output_type": "execute_result"
    }
   ],
   "source": [
    "from dotenv import load_dotenv\n",
    "load_dotenv()"
   ]
  },
  {
   "cell_type": "markdown",
   "metadata": {},
   "source": [
    "Now, we are ready to import spotipy:"
   ]
  },
  {
   "cell_type": "code",
   "execution_count": 2,
   "metadata": {},
   "outputs": [],
   "source": [
    "import spotipy\n",
    "from spotipy.oauth2 import SpotifyOAuth\n",
    "\n",
    "scope = \"user-library-read\"\n",
    "\n",
    "sp = spotipy.Spotify(auth_manager=SpotifyOAuth(scope=scope))"
   ]
  },
  {
   "cell_type": "markdown",
   "metadata": {},
   "source": [
    "Let's load the Spotify chart data we already explored in `spotify_weekly_charts.ipynb`"
   ]
  },
  {
   "cell_type": "code",
   "execution_count": 3,
   "metadata": {},
   "outputs": [],
   "source": [
    "import pandas as pd\n",
    "from helpers import get_data_path\n",
    "charts = pd.read_csv(\n",
    "    get_data_path(\"charts.csv\"),\n",
    "    dtype={\n",
    "        \"title\": \"category\",\n",
    "        \"artist\": \"category\",\n",
    "        \"url\": \"category\",\n",
    "        \"region\": \"category\",\n",
    "        \"chart\": \"category\",\n",
    "        \"trend\": \"category\",\n",
    "    },\n",
    "    parse_dates=[\"date\"]\n",
    ")"
   ]
  },
  {
   "cell_type": "code",
   "execution_count": 4,
   "metadata": {},
   "outputs": [
    {
     "data": {
      "text/html": [
       "<div>\n",
       "<style scoped>\n",
       "    .dataframe tbody tr th:only-of-type {\n",
       "        vertical-align: middle;\n",
       "    }\n",
       "\n",
       "    .dataframe tbody tr th {\n",
       "        vertical-align: top;\n",
       "    }\n",
       "\n",
       "    .dataframe thead th {\n",
       "        text-align: right;\n",
       "    }\n",
       "</style>\n",
       "<table border=\"1\" class=\"dataframe\">\n",
       "  <thead>\n",
       "    <tr style=\"text-align: right;\">\n",
       "      <th></th>\n",
       "      <th>title</th>\n",
       "      <th>rank</th>\n",
       "      <th>date</th>\n",
       "      <th>artist</th>\n",
       "      <th>url</th>\n",
       "      <th>region</th>\n",
       "      <th>chart</th>\n",
       "      <th>trend</th>\n",
       "      <th>streams</th>\n",
       "    </tr>\n",
       "  </thead>\n",
       "  <tbody>\n",
       "    <tr>\n",
       "      <th>0</th>\n",
       "      <td>Chantaje (feat. Maluma)</td>\n",
       "      <td>1</td>\n",
       "      <td>2017-01-01</td>\n",
       "      <td>Shakira</td>\n",
       "      <td>https://open.spotify.com/track/6mICuAdrwEjh6Y6...</td>\n",
       "      <td>Argentina</td>\n",
       "      <td>top200</td>\n",
       "      <td>SAME_POSITION</td>\n",
       "      <td>253019.0</td>\n",
       "    </tr>\n",
       "    <tr>\n",
       "      <th>1</th>\n",
       "      <td>Vente Pa' Ca (feat. Maluma)</td>\n",
       "      <td>2</td>\n",
       "      <td>2017-01-01</td>\n",
       "      <td>Ricky Martin</td>\n",
       "      <td>https://open.spotify.com/track/7DM4BPaS7uofFul...</td>\n",
       "      <td>Argentina</td>\n",
       "      <td>top200</td>\n",
       "      <td>MOVE_UP</td>\n",
       "      <td>223988.0</td>\n",
       "    </tr>\n",
       "    <tr>\n",
       "      <th>2</th>\n",
       "      <td>Reggaetón Lento (Bailemos)</td>\n",
       "      <td>3</td>\n",
       "      <td>2017-01-01</td>\n",
       "      <td>CNCO</td>\n",
       "      <td>https://open.spotify.com/track/3AEZUABDXNtecAO...</td>\n",
       "      <td>Argentina</td>\n",
       "      <td>top200</td>\n",
       "      <td>MOVE_DOWN</td>\n",
       "      <td>210943.0</td>\n",
       "    </tr>\n",
       "    <tr>\n",
       "      <th>3</th>\n",
       "      <td>Safari</td>\n",
       "      <td>4</td>\n",
       "      <td>2017-01-01</td>\n",
       "      <td>J Balvin, Pharrell Williams, BIA, Sky</td>\n",
       "      <td>https://open.spotify.com/track/6rQSrBHf7HlZjtc...</td>\n",
       "      <td>Argentina</td>\n",
       "      <td>top200</td>\n",
       "      <td>SAME_POSITION</td>\n",
       "      <td>173865.0</td>\n",
       "    </tr>\n",
       "    <tr>\n",
       "      <th>4</th>\n",
       "      <td>Shaky Shaky</td>\n",
       "      <td>5</td>\n",
       "      <td>2017-01-01</td>\n",
       "      <td>Daddy Yankee</td>\n",
       "      <td>https://open.spotify.com/track/58IL315gMSTD37D...</td>\n",
       "      <td>Argentina</td>\n",
       "      <td>top200</td>\n",
       "      <td>MOVE_UP</td>\n",
       "      <td>153956.0</td>\n",
       "    </tr>\n",
       "    <tr>\n",
       "      <th>...</th>\n",
       "      <td>...</td>\n",
       "      <td>...</td>\n",
       "      <td>...</td>\n",
       "      <td>...</td>\n",
       "      <td>...</td>\n",
       "      <td>...</td>\n",
       "      <td>...</td>\n",
       "      <td>...</td>\n",
       "      <td>...</td>\n",
       "    </tr>\n",
       "    <tr>\n",
       "      <th>26173509</th>\n",
       "      <td>BYE</td>\n",
       "      <td>46</td>\n",
       "      <td>2021-07-31</td>\n",
       "      <td>Jaden</td>\n",
       "      <td>https://open.spotify.com/track/3OUyyDN7EZrL7i0...</td>\n",
       "      <td>Vietnam</td>\n",
       "      <td>viral50</td>\n",
       "      <td>MOVE_UP</td>\n",
       "      <td>NaN</td>\n",
       "    </tr>\n",
       "    <tr>\n",
       "      <th>26173510</th>\n",
       "      <td>Pillars</td>\n",
       "      <td>47</td>\n",
       "      <td>2021-07-31</td>\n",
       "      <td>My Anh</td>\n",
       "      <td>https://open.spotify.com/track/6eky30oFiQbHUAT...</td>\n",
       "      <td>Vietnam</td>\n",
       "      <td>viral50</td>\n",
       "      <td>NEW_ENTRY</td>\n",
       "      <td>NaN</td>\n",
       "    </tr>\n",
       "    <tr>\n",
       "      <th>26173511</th>\n",
       "      <td>Gái Độc Thân</td>\n",
       "      <td>48</td>\n",
       "      <td>2021-07-31</td>\n",
       "      <td>Tlinh</td>\n",
       "      <td>https://open.spotify.com/track/2klsSb2iTfgDh95...</td>\n",
       "      <td>Vietnam</td>\n",
       "      <td>viral50</td>\n",
       "      <td>MOVE_DOWN</td>\n",
       "      <td>NaN</td>\n",
       "    </tr>\n",
       "    <tr>\n",
       "      <th>26173512</th>\n",
       "      <td>Renegade (feat. Taylor Swift)</td>\n",
       "      <td>49</td>\n",
       "      <td>2021-07-31</td>\n",
       "      <td>Big Red Machine</td>\n",
       "      <td>https://open.spotify.com/track/1aU1wpYBSpP0M6I...</td>\n",
       "      <td>Vietnam</td>\n",
       "      <td>viral50</td>\n",
       "      <td>MOVE_DOWN</td>\n",
       "      <td>NaN</td>\n",
       "    </tr>\n",
       "    <tr>\n",
       "      <th>26173513</th>\n",
       "      <td>Letter to Jarad</td>\n",
       "      <td>50</td>\n",
       "      <td>2021-07-31</td>\n",
       "      <td>LRN Slime, Shiloh Dynasty</td>\n",
       "      <td>https://open.spotify.com/track/508QhA2SncMbh5C...</td>\n",
       "      <td>Vietnam</td>\n",
       "      <td>viral50</td>\n",
       "      <td>MOVE_DOWN</td>\n",
       "      <td>NaN</td>\n",
       "    </tr>\n",
       "  </tbody>\n",
       "</table>\n",
       "<p>26173514 rows × 9 columns</p>\n",
       "</div>"
      ],
      "text/plain": [
       "                                  title  rank       date  \\\n",
       "0               Chantaje (feat. Maluma)     1 2017-01-01   \n",
       "1           Vente Pa' Ca (feat. Maluma)     2 2017-01-01   \n",
       "2            Reggaetón Lento (Bailemos)     3 2017-01-01   \n",
       "3                                Safari     4 2017-01-01   \n",
       "4                           Shaky Shaky     5 2017-01-01   \n",
       "...                                 ...   ...        ...   \n",
       "26173509                            BYE    46 2021-07-31   \n",
       "26173510                        Pillars    47 2021-07-31   \n",
       "26173511                   Gái Độc Thân    48 2021-07-31   \n",
       "26173512  Renegade (feat. Taylor Swift)    49 2021-07-31   \n",
       "26173513                Letter to Jarad    50 2021-07-31   \n",
       "\n",
       "                                         artist  \\\n",
       "0                                       Shakira   \n",
       "1                                  Ricky Martin   \n",
       "2                                          CNCO   \n",
       "3         J Balvin, Pharrell Williams, BIA, Sky   \n",
       "4                                  Daddy Yankee   \n",
       "...                                         ...   \n",
       "26173509                                  Jaden   \n",
       "26173510                                 My Anh   \n",
       "26173511                                  Tlinh   \n",
       "26173512                        Big Red Machine   \n",
       "26173513              LRN Slime, Shiloh Dynasty   \n",
       "\n",
       "                                                        url     region  \\\n",
       "0         https://open.spotify.com/track/6mICuAdrwEjh6Y6...  Argentina   \n",
       "1         https://open.spotify.com/track/7DM4BPaS7uofFul...  Argentina   \n",
       "2         https://open.spotify.com/track/3AEZUABDXNtecAO...  Argentina   \n",
       "3         https://open.spotify.com/track/6rQSrBHf7HlZjtc...  Argentina   \n",
       "4         https://open.spotify.com/track/58IL315gMSTD37D...  Argentina   \n",
       "...                                                     ...        ...   \n",
       "26173509  https://open.spotify.com/track/3OUyyDN7EZrL7i0...    Vietnam   \n",
       "26173510  https://open.spotify.com/track/6eky30oFiQbHUAT...    Vietnam   \n",
       "26173511  https://open.spotify.com/track/2klsSb2iTfgDh95...    Vietnam   \n",
       "26173512  https://open.spotify.com/track/1aU1wpYBSpP0M6I...    Vietnam   \n",
       "26173513  https://open.spotify.com/track/508QhA2SncMbh5C...    Vietnam   \n",
       "\n",
       "            chart          trend   streams  \n",
       "0          top200  SAME_POSITION  253019.0  \n",
       "1          top200        MOVE_UP  223988.0  \n",
       "2          top200      MOVE_DOWN  210943.0  \n",
       "3          top200  SAME_POSITION  173865.0  \n",
       "4          top200        MOVE_UP  153956.0  \n",
       "...           ...            ...       ...  \n",
       "26173509  viral50        MOVE_UP       NaN  \n",
       "26173510  viral50      NEW_ENTRY       NaN  \n",
       "26173511  viral50      MOVE_DOWN       NaN  \n",
       "26173512  viral50      MOVE_DOWN       NaN  \n",
       "26173513  viral50      MOVE_DOWN       NaN  \n",
       "\n",
       "[26173514 rows x 9 columns]"
      ]
     },
     "execution_count": 4,
     "metadata": {},
     "output_type": "execute_result"
    }
   ],
   "source": [
    "charts"
   ]
  },
  {
   "cell_type": "markdown",
   "metadata": {},
   "source": [
    "Let's try to fetch information for one of the tracks:"
   ]
  },
  {
   "cell_type": "code",
   "execution_count": 6,
   "metadata": {},
   "outputs": [],
   "source": [
    "example =sp.track(charts.iloc[0].url)"
   ]
  },
  {
   "cell_type": "code",
   "execution_count": 7,
   "metadata": {},
   "outputs": [
    {
     "data": {
      "text/plain": [
       "dict"
      ]
     },
     "execution_count": 7,
     "metadata": {},
     "output_type": "execute_result"
    }
   ],
   "source": [
    "type(example)"
   ]
  },
  {
   "cell_type": "code",
   "execution_count": 10,
   "metadata": {},
   "outputs": [
    {
     "data": {
      "text/plain": [
       "['album',\n",
       " 'artists',\n",
       " 'available_markets',\n",
       " 'disc_number',\n",
       " 'duration_ms',\n",
       " 'explicit',\n",
       " 'external_ids',\n",
       " 'external_urls',\n",
       " 'href',\n",
       " 'id',\n",
       " 'is_local',\n",
       " 'name',\n",
       " 'popularity',\n",
       " 'preview_url',\n",
       " 'track_number',\n",
       " 'type',\n",
       " 'uri']"
      ]
     },
     "execution_count": 10,
     "metadata": {},
     "output_type": "execute_result"
    }
   ],
   "source": [
    "[key for key in example.keys()]"
   ]
  },
  {
   "cell_type": "code",
   "execution_count": 12,
   "metadata": {},
   "outputs": [
    {
     "data": {
      "text/plain": [
       "[{'external_urls': {'spotify': 'https://open.spotify.com/artist/0EmeFodog0BfCgMzAIvKQp'},\n",
       "  'href': 'https://api.spotify.com/v1/artists/0EmeFodog0BfCgMzAIvKQp',\n",
       "  'id': '0EmeFodog0BfCgMzAIvKQp',\n",
       "  'name': 'Shakira',\n",
       "  'type': 'artist',\n",
       "  'uri': 'spotify:artist:0EmeFodog0BfCgMzAIvKQp'},\n",
       " {'external_urls': {'spotify': 'https://open.spotify.com/artist/1r4hJ1h58CWwUQe3MxPuau'},\n",
       "  'href': 'https://api.spotify.com/v1/artists/1r4hJ1h58CWwUQe3MxPuau',\n",
       "  'id': '1r4hJ1h58CWwUQe3MxPuau',\n",
       "  'name': 'Maluma',\n",
       "  'type': 'artist',\n",
       "  'uri': 'spotify:artist:1r4hJ1h58CWwUQe3MxPuau'}]"
      ]
     },
     "execution_count": 12,
     "metadata": {},
     "output_type": "execute_result"
    }
   ],
   "source": [
    "example[\"artists\"]"
   ]
  },
  {
   "cell_type": "code",
   "execution_count": null,
   "metadata": {},
   "outputs": [],
   "source": []
  }
 ],
 "metadata": {
  "kernelspec": {
   "display_name": "Python 3.10.6 ('sejmouvisds')",
   "language": "python",
   "name": "python3"
  },
  "language_info": {
   "codemirror_mode": {
    "name": "ipython",
    "version": 3
   },
   "file_extension": ".py",
   "mimetype": "text/x-python",
   "name": "python",
   "nbconvert_exporter": "python",
   "pygments_lexer": "ipython3",
   "version": "3.10.6"
  },
  "orig_nbformat": 4,
  "vscode": {
   "interpreter": {
    "hash": "8513d7823e541875ad872d8139478b18b6793d7fc44af64226c569f61ae21736"
   }
  }
 },
 "nbformat": 4,
 "nbformat_minor": 2
}
